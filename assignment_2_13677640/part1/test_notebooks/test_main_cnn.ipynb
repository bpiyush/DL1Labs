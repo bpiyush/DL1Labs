{
 "cells": [
  {
   "cell_type": "code",
   "execution_count": 1,
   "id": "8523e410-3f20-4c13-a393-91215e5224cc",
   "metadata": {},
   "outputs": [],
   "source": [
    "%load_ext autoreload\n",
    "%autoreload 2"
   ]
  },
  {
   "cell_type": "code",
   "execution_count": 2,
   "id": "d6053a67-1446-4aac-a14b-21c8377f0476",
   "metadata": {},
   "outputs": [],
   "source": [
    "import sys\n",
    "sys.path.append(\"../\")"
   ]
  },
  {
   "cell_type": "code",
   "execution_count": 3,
   "id": "34a357d2-6f9b-410f-ab0d-487ac91d15ad",
   "metadata": {},
   "outputs": [],
   "source": [
    "import numpy as np\n",
    "import torch\n",
    "\n",
    "from main_cnn import get_model, train_model"
   ]
  },
  {
   "cell_type": "markdown",
   "id": "053b926b-1385-4f83-88ff-5bdba5159035",
   "metadata": {},
   "source": [
    "#### Test `train_model`"
   ]
  },
  {
   "cell_type": "code",
   "execution_count": 12,
   "id": "5fe5c22a-da75-4f50-8b08-d88fff5f5516",
   "metadata": {},
   "outputs": [],
   "source": [
    "args = {\n",
    "    \"model\": get_model(\"resnet18\"),\n",
    "    \"lr\": 1e-2,\n",
    "    \"epochs\": 10,\n",
    "    \"batch_size\": 16,\n",
    "    \"data_dir\": \"../data/\",\n",
    "    \"checkpoint_name\": None,\n",
    "    \"device\": torch.device(\"cpu\"),\n",
    "}"
   ]
  },
  {
   "cell_type": "code",
   "execution_count": 14,
   "id": "290e1236-dcdf-4861-8bb0-2ee1346e0839",
   "metadata": {},
   "outputs": [
    {
     "name": "stdout",
     "output_type": "stream",
     "text": [
      "Files already downloaded and verified\n",
      "Files already downloaded and verified\n"
     ]
    },
    {
     "name": "stderr",
     "output_type": "stream",
     "text": [
      "::::: [T] | Epoch 0 | Loss: 0.867 | top1_error_rate: 0.188 | : 100%|██████████| 2812/2812 [03:02<00:00, 15.42it/s]                                               \n",
      "::::: [V] | Epoch 0 | Loss: 1.049 | top1_error_rate: 0.375 | : 100%|██████████| 313/313 [00:06<00:00, 46.82it/s]                                                 \n"
     ]
    },
    {
     "name": "stdout",
     "output_type": "stream",
     "text": [
      "::::: Finished Epoch 0 \n",
      "::::: Training\n",
      "Losses:  {'cross_entropy': array(1.3858893, dtype=float32)}\n",
      "Metrics:  {'top1_error_rate': array(0.49164295, dtype=float32)}\n",
      "::::: Validation\n",
      "Losses:  {'cross_entropy': array(1.2334727, dtype=float32)}\n",
      "Metrics:  {'top1_error_rate': array(0.4335064, dtype=float32)}\n",
      "- -- -- -- -- -- -- -- -- -- -- -- -- -- -- -- -- -- -- -- -- -- -- -- -- -- -- -- -- -- -- -- -- -- -- -- -- -- -- -- -- -- -- -- -- -- -- -- -- -- -\n"
     ]
    },
    {
     "name": "stderr",
     "output_type": "stream",
     "text": [
      "::::: [T] | Epoch 1 | Loss: 1.138 | top1_error_rate: 0.375 | : 100%|██████████| 2812/2812 [03:05<00:00, 15.13it/s]                                               \n",
      "::::: [V] | Epoch 1 | Loss: 0.620 | top1_error_rate: 0.125 | : 100%|██████████| 313/313 [00:06<00:00, 47.93it/s]                                                 \n"
     ]
    },
    {
     "name": "stdout",
     "output_type": "stream",
     "text": [
      "::::: Finished Epoch 1 \n",
      "::::: Training\n",
      "Losses:  {'cross_entropy': array(1.1667508, dtype=float32)}\n",
      "Metrics:  {'top1_error_rate': array(0.4080281, dtype=float32)}\n",
      "::::: Validation\n",
      "Losses:  {'cross_entropy': array(1.0762969, dtype=float32)}\n",
      "Metrics:  {'top1_error_rate': array(0.37839457, dtype=float32)}\n",
      "- -- -- -- -- -- -- -- -- -- -- -- -- -- -- -- -- -- -- -- -- -- -- -- -- -- -- -- -- -- -- -- -- -- -- -- -- -- -- -- -- -- -- -- -- -- -- -- -- -- -\n"
     ]
    },
    {
     "name": "stderr",
     "output_type": "stream",
     "text": [
      "::::: [T] | Epoch 2 | Loss: 0.954 | top1_error_rate: 0.438 | : 100%|██████████| 2812/2812 [03:05<00:00, 15.17it/s]                                               \n",
      "::::: [V] | Epoch 2 | Loss: 0.464 | top1_error_rate: 0.000 | : 100%|██████████| 313/313 [00:06<00:00, 46.85it/s]                                                 \n"
     ]
    },
    {
     "name": "stdout",
     "output_type": "stream",
     "text": [
      "::::: Finished Epoch 2 \n",
      "::::: Training\n",
      "Losses:  {'cross_entropy': array(1.0480748, dtype=float32)}\n",
      "Metrics:  {'top1_error_rate': array(0.3625978, dtype=float32)}\n",
      "::::: Validation\n",
      "Losses:  {'cross_entropy': array(0.96922123, dtype=float32)}\n",
      "Metrics:  {'top1_error_rate': array(0.3360623, dtype=float32)}\n",
      "- -- -- -- -- -- -- -- -- -- -- -- -- -- -- -- -- -- -- -- -- -- -- -- -- -- -- -- -- -- -- -- -- -- -- -- -- -- -- -- -- -- -- -- -- -- -- -- -- -- -\n"
     ]
    },
    {
     "name": "stderr",
     "output_type": "stream",
     "text": [
      "::::: [T] | Epoch 3 | Loss: 0.908 | top1_error_rate: 0.375 | : 100%|██████████| 2812/2812 [03:04<00:00, 15.23it/s]                                               \n",
      "::::: [V] | Epoch 3 | Loss: 0.719 | top1_error_rate: 0.250 | : 100%|██████████| 313/313 [00:06<00:00, 45.19it/s]                                                 \n"
     ]
    },
    {
     "name": "stdout",
     "output_type": "stream",
     "text": [
      "::::: Finished Epoch 3 \n",
      "::::: Training\n",
      "Losses:  {'cross_entropy': array(0.9657271, dtype=float32)}\n",
      "Metrics:  {'top1_error_rate': array(0.33541518, dtype=float32)}\n",
      "::::: Validation\n",
      "Losses:  {'cross_entropy': array(0.9082841, dtype=float32)}\n",
      "Metrics:  {'top1_error_rate': array(0.31829074, dtype=float32)}\n",
      "- -- -- -- -- -- -- -- -- -- -- -- -- -- -- -- -- -- -- -- -- -- -- -- -- -- -- -- -- -- -- -- -- -- -- -- -- -- -- -- -- -- -- -- -- -- -- -- -- -- -\n"
     ]
    },
    {
     "name": "stderr",
     "output_type": "stream",
     "text": [
      "::::: [T] | Epoch 4 | Loss: 0.702 | top1_error_rate: 0.312 | : 100%|██████████| 2812/2812 [03:11<00:00, 14.70it/s]                                               \n",
      "::::: [V] | Epoch 4 | Loss: 1.006 | top1_error_rate: 0.375 | : 100%|██████████| 313/313 [00:06<00:00, 45.39it/s]                                                 \n"
     ]
    },
    {
     "name": "stdout",
     "output_type": "stream",
     "text": [
      "::::: Finished Epoch 4 \n",
      "::::: Training\n",
      "Losses:  {'cross_entropy': array(0.8996603, dtype=float32)}\n",
      "Metrics:  {'top1_error_rate': array(0.3098773, dtype=float32)}\n",
      "::::: Validation\n",
      "Losses:  {'cross_entropy': array(0.8859281, dtype=float32)}\n",
      "Metrics:  {'top1_error_rate': array(0.3043131, dtype=float32)}\n",
      "- -- -- -- -- -- -- -- -- -- -- -- -- -- -- -- -- -- -- -- -- -- -- -- -- -- -- -- -- -- -- -- -- -- -- -- -- -- -- -- -- -- -- -- -- -- -- -- -- -- -\n"
     ]
    },
    {
     "name": "stderr",
     "output_type": "stream",
     "text": [
      "::::: [T] | Epoch 5 | Loss: 1.249 | top1_error_rate: 0.438 | :  32%|███▏      | 908/2812 [01:01<02:08, 14.85it/s]                                                \n"
     ]
    },
    {
     "ename": "KeyboardInterrupt",
     "evalue": "",
     "output_type": "error",
     "traceback": [
      "\u001b[0;31m---------------------------------------------------------------------------\u001b[0m",
      "\u001b[0;31mKeyboardInterrupt\u001b[0m                         Traceback (most recent call last)",
      "\u001b[0;32m/var/folders/nw/93_by3716yn881ckngw_vmp40000gn/T/ipykernel_58449/2041554213.py\u001b[0m in \u001b[0;36m<module>\u001b[0;34m\u001b[0m\n\u001b[0;32m----> 1\u001b[0;31m \u001b[0mmodel\u001b[0m \u001b[0;34m=\u001b[0m \u001b[0mtrain_model\u001b[0m\u001b[0;34m(\u001b[0m\u001b[0;34m**\u001b[0m\u001b[0margs\u001b[0m\u001b[0;34m)\u001b[0m\u001b[0;34m\u001b[0m\u001b[0;34m\u001b[0m\u001b[0m\n\u001b[0m",
      "\u001b[0;32m~/UvA/academics/DL1/DL1Labs/assignment_2_13677640/part1/test_notebooks/../main_cnn.py\u001b[0m in \u001b[0;36mtrain_model\u001b[0;34m(model, lr, batch_size, epochs, data_dir, checkpoint_name, device)\u001b[0m\n\u001b[1;32m    259\u001b[0m         )\n\u001b[1;32m    260\u001b[0m         \u001b[0;32mfor\u001b[0m \u001b[0mbatch\u001b[0m \u001b[0;32min\u001b[0m \u001b[0miterator\u001b[0m\u001b[0;34m:\u001b[0m\u001b[0;34m\u001b[0m\u001b[0;34m\u001b[0m\u001b[0m\n\u001b[0;32m--> 261\u001b[0;31m             model, batch_losses, batch_metrics = run_phase(\n\u001b[0m\u001b[1;32m    262\u001b[0m                 \u001b[0mmodel\u001b[0m\u001b[0;34m,\u001b[0m \u001b[0mbatch\u001b[0m\u001b[0;34m,\u001b[0m \u001b[0mloss_modules\u001b[0m\u001b[0;34m,\u001b[0m \u001b[0mmetric_modules\u001b[0m\u001b[0;34m,\u001b[0m\u001b[0;34m\u001b[0m\u001b[0;34m\u001b[0m\u001b[0m\n\u001b[1;32m    263\u001b[0m                 \u001b[0miterator\u001b[0m\u001b[0;34m,\u001b[0m \u001b[0mepoch\u001b[0m\u001b[0;34m,\u001b[0m \u001b[0moptimizer\u001b[0m\u001b[0;34m,\u001b[0m \u001b[0mphase\u001b[0m\u001b[0;34m=\u001b[0m\u001b[0;34m\"Training\"\u001b[0m\u001b[0;34m,\u001b[0m\u001b[0;34m\u001b[0m\u001b[0;34m\u001b[0m\u001b[0m\n",
      "\u001b[0;32m~/UvA/academics/DL1/DL1Labs/assignment_2_13677640/part1/test_notebooks/../main_cnn.py\u001b[0m in \u001b[0;36mrun_phase\u001b[0;34m(model, batch, loss_modules, metric_modules, iterator, epoch, opt, phase)\u001b[0m\n\u001b[1;32m    149\u001b[0m         \u001b[0;32massert\u001b[0m \u001b[0mopt\u001b[0m \u001b[0;32mis\u001b[0m \u001b[0;32mnot\u001b[0m \u001b[0;32mNone\u001b[0m\u001b[0;34m\u001b[0m\u001b[0;34m\u001b[0m\u001b[0m\n\u001b[1;32m    150\u001b[0m         \u001b[0mopt\u001b[0m\u001b[0;34m.\u001b[0m\u001b[0mzero_grad\u001b[0m\u001b[0;34m(\u001b[0m\u001b[0;34m)\u001b[0m\u001b[0;34m\u001b[0m\u001b[0;34m\u001b[0m\u001b[0m\n\u001b[0;32m--> 151\u001b[0;31m         \u001b[0mnet_loss\u001b[0m\u001b[0;34m.\u001b[0m\u001b[0mbackward\u001b[0m\u001b[0;34m(\u001b[0m\u001b[0;34m)\u001b[0m\u001b[0;34m\u001b[0m\u001b[0;34m\u001b[0m\u001b[0m\n\u001b[0m\u001b[1;32m    152\u001b[0m         \u001b[0mopt\u001b[0m\u001b[0;34m.\u001b[0m\u001b[0mstep\u001b[0m\u001b[0;34m(\u001b[0m\u001b[0;34m)\u001b[0m\u001b[0;34m\u001b[0m\u001b[0;34m\u001b[0m\u001b[0m\n\u001b[1;32m    153\u001b[0m \u001b[0;34m\u001b[0m\u001b[0m\n",
      "\u001b[0;32m~/miniforge3/envs/dl2021-cpu/lib/python3.9/site-packages/torch/_tensor.py\u001b[0m in \u001b[0;36mbackward\u001b[0;34m(self, gradient, retain_graph, create_graph, inputs)\u001b[0m\n\u001b[1;32m    305\u001b[0m                 \u001b[0mcreate_graph\u001b[0m\u001b[0;34m=\u001b[0m\u001b[0mcreate_graph\u001b[0m\u001b[0;34m,\u001b[0m\u001b[0;34m\u001b[0m\u001b[0;34m\u001b[0m\u001b[0m\n\u001b[1;32m    306\u001b[0m                 inputs=inputs)\n\u001b[0;32m--> 307\u001b[0;31m         \u001b[0mtorch\u001b[0m\u001b[0;34m.\u001b[0m\u001b[0mautograd\u001b[0m\u001b[0;34m.\u001b[0m\u001b[0mbackward\u001b[0m\u001b[0;34m(\u001b[0m\u001b[0mself\u001b[0m\u001b[0;34m,\u001b[0m \u001b[0mgradient\u001b[0m\u001b[0;34m,\u001b[0m \u001b[0mretain_graph\u001b[0m\u001b[0;34m,\u001b[0m \u001b[0mcreate_graph\u001b[0m\u001b[0;34m,\u001b[0m \u001b[0minputs\u001b[0m\u001b[0;34m=\u001b[0m\u001b[0minputs\u001b[0m\u001b[0;34m)\u001b[0m\u001b[0;34m\u001b[0m\u001b[0;34m\u001b[0m\u001b[0m\n\u001b[0m\u001b[1;32m    308\u001b[0m \u001b[0;34m\u001b[0m\u001b[0m\n\u001b[1;32m    309\u001b[0m     \u001b[0;32mdef\u001b[0m \u001b[0mregister_hook\u001b[0m\u001b[0;34m(\u001b[0m\u001b[0mself\u001b[0m\u001b[0;34m,\u001b[0m \u001b[0mhook\u001b[0m\u001b[0;34m)\u001b[0m\u001b[0;34m:\u001b[0m\u001b[0;34m\u001b[0m\u001b[0;34m\u001b[0m\u001b[0m\n",
      "\u001b[0;32m~/miniforge3/envs/dl2021-cpu/lib/python3.9/site-packages/torch/autograd/__init__.py\u001b[0m in \u001b[0;36mbackward\u001b[0;34m(tensors, grad_tensors, retain_graph, create_graph, grad_variables, inputs)\u001b[0m\n\u001b[1;32m    152\u001b[0m         \u001b[0mretain_graph\u001b[0m \u001b[0;34m=\u001b[0m \u001b[0mcreate_graph\u001b[0m\u001b[0;34m\u001b[0m\u001b[0;34m\u001b[0m\u001b[0m\n\u001b[1;32m    153\u001b[0m \u001b[0;34m\u001b[0m\u001b[0m\n\u001b[0;32m--> 154\u001b[0;31m     Variable._execution_engine.run_backward(\n\u001b[0m\u001b[1;32m    155\u001b[0m         \u001b[0mtensors\u001b[0m\u001b[0;34m,\u001b[0m \u001b[0mgrad_tensors_\u001b[0m\u001b[0;34m,\u001b[0m \u001b[0mretain_graph\u001b[0m\u001b[0;34m,\u001b[0m \u001b[0mcreate_graph\u001b[0m\u001b[0;34m,\u001b[0m \u001b[0minputs\u001b[0m\u001b[0;34m,\u001b[0m\u001b[0;34m\u001b[0m\u001b[0;34m\u001b[0m\u001b[0m\n\u001b[1;32m    156\u001b[0m         allow_unreachable=True, accumulate_grad=True)  # allow_unreachable flag\n",
      "\u001b[0;31mKeyboardInterrupt\u001b[0m: "
     ]
    }
   ],
   "source": [
    "model = train_model(**args)"
   ]
  },
  {
   "cell_type": "code",
   "execution_count": null,
   "id": "5c52abfd-ed33-4b31-82db-45343397ea5b",
   "metadata": {},
   "outputs": [],
   "source": []
  }
 ],
 "metadata": {
  "kernelspec": {
   "display_name": "Python 3 (ipykernel)",
   "language": "python",
   "name": "python3"
  },
  "language_info": {
   "codemirror_mode": {
    "name": "ipython",
    "version": 3
   },
   "file_extension": ".py",
   "mimetype": "text/x-python",
   "name": "python",
   "nbconvert_exporter": "python",
   "pygments_lexer": "ipython3",
   "version": "3.9.7"
  }
 },
 "nbformat": 4,
 "nbformat_minor": 5
}
