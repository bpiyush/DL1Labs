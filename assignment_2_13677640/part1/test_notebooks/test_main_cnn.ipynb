{
 "cells": [
  {
   "cell_type": "code",
   "execution_count": 1,
   "id": "8523e410-3f20-4c13-a393-91215e5224cc",
   "metadata": {},
   "outputs": [],
   "source": [
    "%load_ext autoreload\n",
    "%autoreload 2"
   ]
  },
  {
   "cell_type": "code",
   "execution_count": 1,
   "id": "d6053a67-1446-4aac-a14b-21c8377f0476",
   "metadata": {},
   "outputs": [],
   "source": [
    "import sys\n",
    "sys.path.append(\"../\")"
   ]
  },
  {
   "cell_type": "code",
   "execution_count": 2,
   "id": "34a357d2-6f9b-410f-ab0d-487ac91d15ad",
   "metadata": {},
   "outputs": [],
   "source": [
    "import numpy as np\n",
    "import torch\n",
    "\n",
    "from main_cnn import get_model, train_model"
   ]
  },
  {
   "cell_type": "markdown",
   "id": "053b926b-1385-4f83-88ff-5bdba5159035",
   "metadata": {},
   "source": [
    "#### Test `train_model`"
   ]
  },
  {
   "cell_type": "code",
   "execution_count": 3,
   "id": "5fe5c22a-da75-4f50-8b08-d88fff5f5516",
   "metadata": {},
   "outputs": [],
   "source": [
    "args = {\n",
    "    \"model\": get_model(\"resnet18\"),\n",
    "    \"lr\": 1e-2,\n",
    "    \"epochs\": 2,\n",
    "    \"batch_size\": 16,\n",
    "    \"data_dir\": \"../data/\",\n",
    "    \"checkpoint_name\": \"../checkpoints/resnet18_best.pt\",\n",
    "    \"device\": torch.device(\"cpu\"),\n",
    "}"
   ]
  },
  {
   "cell_type": "code",
   "execution_count": 4,
   "id": "290e1236-dcdf-4861-8bb0-2ee1346e0839",
   "metadata": {},
   "outputs": [
    {
     "name": "stdout",
     "output_type": "stream",
     "text": [
      "Files already downloaded and verified\n",
      "Files already downloaded and verified\n"
     ]
    },
    {
     "name": "stderr",
     "output_type": "stream",
     "text": [
      "::::: [T] | Epoch 0 | Loss: 1.617 | top1_error_rate: 0.750 | : 100%|██████████| 2812/2812 [03:00<00:00, 15.54it/s]                                    \n",
      "::::: [V] | Epoch 0 | Loss: 0.917 | top1_error_rate: 0.500 | : 100%|██████████| 313/313 [00:06<00:00, 50.72it/s]                                      \n"
     ]
    },
    {
     "name": "stdout",
     "output_type": "stream",
     "text": [
      "::::: Finished Epoch 0 \n",
      "::::: Training\n",
      "Losses:  {'cross_entropy': array(1.8608228, dtype=float32)}\n",
      "Metrics:  {'top1_error_rate': array(0.6328236, dtype=float32)}\n",
      "::::: Validation\n",
      "Losses:  {'cross_entropy': array(1.4972495, dtype=float32)}\n",
      "Metrics:  {'top1_error_rate': array(0.528754, dtype=float32)}\n",
      "::::: Saving best model so far with validation metrics {'top1_error_rate': array(0.528754, dtype=float32)} (epoch 0)\n",
      "- -- -- -- -- -- -- -- -- -- -- -- -- -- -- -- -- -- -- -- -- -- -- -- -- -- -- -- -- -- -- -- -- -- -- -- -- -- -- -- -- -- -- -- -- -- -- -- -- -- -\n"
     ]
    },
    {
     "name": "stderr",
     "output_type": "stream",
     "text": [
      "::::: [T] | Epoch 1 | Loss: 0.929 | top1_error_rate: 0.375 | : 100%|██████████| 2812/2812 [03:02<00:00, 15.42it/s]                                    \n",
      "::::: [V] | Epoch 1 | Loss: 1.029 | top1_error_rate: 0.250 | : 100%|██████████| 313/313 [00:06<00:00, 48.41it/s]                                      \n"
     ]
    },
    {
     "name": "stdout",
     "output_type": "stream",
     "text": [
      "::::: Finished Epoch 1 \n",
      "::::: Training\n",
      "Losses:  {'cross_entropy': array(1.3486861, dtype=float32)}\n",
      "Metrics:  {'top1_error_rate': array(0.47866288, dtype=float32)}\n",
      "::::: Validation\n",
      "Losses:  {'cross_entropy': array(1.2441088, dtype=float32)}\n",
      "Metrics:  {'top1_error_rate': array(0.44728434, dtype=float32)}\n",
      "::::: Saving best model so far with validation metrics {'top1_error_rate': array(0.44728434, dtype=float32)} (epoch 1)\n",
      "- -- -- -- -- -- -- -- -- -- -- -- -- -- -- -- -- -- -- -- -- -- -- -- -- -- -- -- -- -- -- -- -- -- -- -- -- -- -- -- -- -- -- -- -- -- -- -- -- -- -\n"
     ]
    }
   ],
   "source": [
    "model = train_model(**args)"
   ]
  },
  {
   "cell_type": "code",
   "execution_count": null,
   "id": "5c52abfd-ed33-4b31-82db-45343397ea5b",
   "metadata": {},
   "outputs": [],
   "source": []
  }
 ],
 "metadata": {
  "kernelspec": {
   "display_name": "Python 3 (ipykernel)",
   "language": "python",
   "name": "python3"
  },
  "language_info": {
   "codemirror_mode": {
    "name": "ipython",
    "version": 3
   },
   "file_extension": ".py",
   "mimetype": "text/x-python",
   "name": "python",
   "nbconvert_exporter": "python",
   "pygments_lexer": "ipython3",
   "version": "3.9.7"
  }
 },
 "nbformat": 4,
 "nbformat_minor": 5
}
