{
 "cells": [
  {
   "cell_type": "code",
   "execution_count": 1,
   "id": "8523e410-3f20-4c13-a393-91215e5224cc",
   "metadata": {},
   "outputs": [],
   "source": [
    "%load_ext autoreload\n",
    "%autoreload 2"
   ]
  },
  {
   "cell_type": "code",
   "execution_count": 2,
   "id": "d6053a67-1446-4aac-a14b-21c8377f0476",
   "metadata": {},
   "outputs": [],
   "source": [
    "import sys\n",
    "sys.path.append(\"../\")"
   ]
  },
  {
   "cell_type": "code",
   "execution_count": 24,
   "id": "34a357d2-6f9b-410f-ab0d-487ac91d15ad",
   "metadata": {},
   "outputs": [],
   "source": [
    "import numpy as np\n",
    "import torch\n",
    "import torch.utils.data as data\n",
    "\n",
    "from cifar10_utils import get_train_validation_set\n",
    "from main_cnn import get_model, train_model, evaluate_model, test_model, main"
   ]
  },
  {
   "cell_type": "markdown",
   "id": "053b926b-1385-4f83-88ff-5bdba5159035",
   "metadata": {},
   "source": [
    "#### Test `train_model`"
   ]
  },
  {
   "cell_type": "code",
   "execution_count": 6,
   "id": "5fe5c22a-da75-4f50-8b08-d88fff5f5516",
   "metadata": {},
   "outputs": [],
   "source": [
    "args = {\n",
    "    \"model\": get_model(\"resnet18\"),\n",
    "    \"lr\": 1e-2,\n",
    "    \"epochs\": 2,\n",
    "    \"batch_size\": 16,\n",
    "    \"data_dir\": \"../data/\",\n",
    "    \"checkpoint_name\": \"../checkpoints/resnet18_best.pt\",\n",
    "    \"device\": torch.device(\"cpu\"),\n",
    "}"
   ]
  },
  {
   "cell_type": "code",
   "execution_count": 7,
   "id": "290e1236-dcdf-4861-8bb0-2ee1346e0839",
   "metadata": {},
   "outputs": [
    {
     "name": "stdout",
     "output_type": "stream",
     "text": [
      "Files already downloaded and verified\n",
      "Files already downloaded and verified\n"
     ]
    },
    {
     "name": "stderr",
     "output_type": "stream",
     "text": [
      "::::: [T] | Epoch 0 | Loss: 1.914 | top1_error_rate: 0.562 | : 100%|██████████| 2812/2812 [11:48<00:00,  3.97it/s]                                                                \n",
      "::::: [V] | Epoch 0 | Loss: 1.334 | top1_error_rate: 0.500 | : 100%|██████████| 313/313 [00:11<00:00, 27.65it/s]                                                                  \n"
     ]
    },
    {
     "name": "stdout",
     "output_type": "stream",
     "text": [
      "::::: Finished Epoch 0 \n",
      "::::: Training\n",
      "Losses:  {'cross_entropy': array(1.8647916, dtype=float32)}\n",
      "Metrics:  {'top1_error_rate': array(0.6364465, dtype=float32)}\n",
      "::::: Validation\n",
      "Losses:  {'cross_entropy': array(1.4262333, dtype=float32)}\n",
      "Metrics:  {'top1_error_rate': array(0.51257986, dtype=float32)}\n",
      "::::: Saving best model so far with validation metrics {'top1_error_rate': array(0.51257986, dtype=float32)} (epoch 0)\n",
      "- -- -- -- -- -- -- -- -- -- -- -- -- -- -- -- -- -- -- -- -- -- -- -- -- -- -- -- -- -- -- -- -- -- -- -- -- -- -- -- -- -- -- -- -- -- -- -- -- -- -\n"
     ]
    },
    {
     "name": "stderr",
     "output_type": "stream",
     "text": [
      "::::: [T] | Epoch 1 | Loss: 1.200 | top1_error_rate: 0.562 | : 100%|██████████| 2812/2812 [11:56<00:00,  3.92it/s]                                                                \n",
      "::::: [V] | Epoch 1 | Loss: 1.143 | top1_error_rate: 0.375 | : 100%|██████████| 313/313 [00:11<00:00, 27.00it/s]                                                                  \n"
     ]
    },
    {
     "name": "stdout",
     "output_type": "stream",
     "text": [
      "::::: Finished Epoch 1 \n",
      "::::: Training\n",
      "Losses:  {'cross_entropy': array(1.3743609, dtype=float32)}\n",
      "Metrics:  {'top1_error_rate': array(0.4867532, dtype=float32)}\n",
      "::::: Validation\n",
      "Losses:  {'cross_entropy': array(1.1589191, dtype=float32)}\n",
      "Metrics:  {'top1_error_rate': array(0.4241214, dtype=float32)}\n",
      "::::: Saving best model so far with validation metrics {'top1_error_rate': array(0.4241214, dtype=float32)} (epoch 1)\n",
      "- -- -- -- -- -- -- -- -- -- -- -- -- -- -- -- -- -- -- -- -- -- -- -- -- -- -- -- -- -- -- -- -- -- -- -- -- -- -- -- -- -- -- -- -- -- -- -- -- -- -\n"
     ]
    }
   ],
   "source": [
    "model = train_model(**args)"
   ]
  },
  {
   "cell_type": "markdown",
   "id": "524de214-efff-43b7-b17b-1798e61f81ae",
   "metadata": {},
   "source": [
    "#### Test `evaluate_model`"
   ]
  },
  {
   "cell_type": "code",
   "execution_count": 8,
   "id": "b5a67213-7494-441f-ade7-a31746368eb6",
   "metadata": {},
   "outputs": [],
   "source": [
    "model = torch.load(\"../checkpoints/resnet18_best.pt\", map_location=\"cpu\")[\"model\"]"
   ]
  },
  {
   "cell_type": "code",
   "execution_count": 9,
   "id": "1f85b5df-3f2a-49be-9652-b32ed40ef287",
   "metadata": {},
   "outputs": [
    {
     "name": "stdout",
     "output_type": "stream",
     "text": [
      "Files already downloaded and verified\n",
      "Files already downloaded and verified\n"
     ]
    }
   ],
   "source": [
    "_, validation_dataset = get_train_validation_set(\"../data/\")\n",
    "validation_dataloader = data.DataLoader(\n",
    "    dataset=validation_dataset,\n",
    "    batch_size=16,\n",
    "    shuffle=False,\n",
    "    drop_last=False,\n",
    ")"
   ]
  },
  {
   "cell_type": "code",
   "execution_count": 10,
   "id": "e97693b4-da3d-4d11-96e9-07e2da5ff6ab",
   "metadata": {},
   "outputs": [
    {
     "name": "stderr",
     "output_type": "stream",
     "text": [
      "::::: [V] | Epoch 0 | Loss: 1.143 | top1_error_rate: 0.375 | : 100%|██████████| 313/313 [00:11<00:00, 27.20it/s]                                                                  \n"
     ]
    }
   ],
   "source": [
    "accuracy = evaluate_model(model, data_loader=validation_dataloader, device=torch.device(\"cpu\"))"
   ]
  },
  {
   "cell_type": "code",
   "execution_count": 11,
   "id": "6a2716a1-75ba-4cca-a392-f7e51a95fdbd",
   "metadata": {},
   "outputs": [
    {
     "data": {
      "text/plain": [
       "0.5758785903453827"
      ]
     },
     "execution_count": 11,
     "metadata": {},
     "output_type": "execute_result"
    }
   ],
   "source": [
    "accuracy"
   ]
  },
  {
   "cell_type": "markdown",
   "id": "955c3dbd-5ce9-4f14-8c5d-066be4600544",
   "metadata": {},
   "source": [
    "#### Test `test_model`"
   ]
  },
  {
   "cell_type": "code",
   "execution_count": 16,
   "id": "22f41256-ab2f-4ee2-b97e-89cb950054d5",
   "metadata": {},
   "outputs": [
    {
     "name": "stdout",
     "output_type": "stream",
     "text": [
      "::::::::::::::::::::::::::::::::::::::::::::::: Evaluating on clean set ::::::::::::::::::::::::::::::::::::::::::::::::\n",
      "Files already downloaded and verified\n"
     ]
    },
    {
     "name": "stderr",
     "output_type": "stream",
     "text": [
      "::::: [V] | Epoch 0 | Loss: 0.876 | top1_error_rate: 0.375 | : 100%|██████████| 625/625 [00:24<00:00, 25.52it/s]                                                                  \n"
     ]
    },
    {
     "name": "stdout",
     "output_type": "stream",
     "text": [
      ":::::::::::::::::::::::::::::::::::::: Evaluating on gaussian_noise_transform: 1 :::::::::::::::::::::::::::::::::::::::\n",
      "Files already downloaded and verified\n"
     ]
    },
    {
     "name": "stderr",
     "output_type": "stream",
     "text": [
      "::::: [V] | Epoch 0 | Loss: 0.912 | top1_error_rate: 0.375 | : 100%|██████████| 625/625 [00:25<00:00, 24.83it/s]                                                                  \n"
     ]
    },
    {
     "name": "stdout",
     "output_type": "stream",
     "text": [
      ":::::::::::::::::::::::::::::::::::::: Evaluating on gaussian_noise_transform: 2 :::::::::::::::::::::::::::::::::::::::\n",
      "Files already downloaded and verified\n"
     ]
    },
    {
     "name": "stderr",
     "output_type": "stream",
     "text": [
      "::::: [V] | Epoch 0 | Loss: 0.882 | top1_error_rate: 0.375 | : 100%|██████████| 625/625 [00:26<00:00, 23.26it/s]                                                                  \n"
     ]
    },
    {
     "name": "stdout",
     "output_type": "stream",
     "text": [
      ":::::::::::::::::::::::::::::::::::::: Evaluating on gaussian_noise_transform: 3 :::::::::::::::::::::::::::::::::::::::\n",
      "Files already downloaded and verified\n"
     ]
    },
    {
     "name": "stderr",
     "output_type": "stream",
     "text": [
      "::::: [V] | Epoch 0 | Loss: 0.989 | top1_error_rate: 0.438 | : 100%|██████████| 625/625 [00:25<00:00, 24.72it/s]                                                                  \n"
     ]
    },
    {
     "name": "stdout",
     "output_type": "stream",
     "text": [
      ":::::::::::::::::::::::::::::::::::::: Evaluating on gaussian_noise_transform: 4 :::::::::::::::::::::::::::::::::::::::\n",
      "Files already downloaded and verified\n"
     ]
    },
    {
     "name": "stderr",
     "output_type": "stream",
     "text": [
      "::::: [V] | Epoch 0 | Loss: 1.081 | top1_error_rate: 0.438 | : 100%|██████████| 625/625 [00:23<00:00, 26.17it/s]                                                                  \n"
     ]
    },
    {
     "name": "stdout",
     "output_type": "stream",
     "text": [
      ":::::::::::::::::::::::::::::::::::::: Evaluating on gaussian_noise_transform: 5 :::::::::::::::::::::::::::::::::::::::\n",
      "Files already downloaded and verified\n"
     ]
    },
    {
     "name": "stderr",
     "output_type": "stream",
     "text": [
      "::::: [V] | Epoch 0 | Loss: 1.482 | top1_error_rate: 0.625 | : 100%|██████████| 625/625 [00:25<00:00, 24.81it/s]                                                                  \n"
     ]
    },
    {
     "name": "stdout",
     "output_type": "stream",
     "text": [
      "::::::::::::::::::::::::::::::::::::::: Evaluating on gaussian_blur_transform: 1 :::::::::::::::::::::::::::::::::::::::\n",
      "Files already downloaded and verified\n"
     ]
    },
    {
     "name": "stderr",
     "output_type": "stream",
     "text": [
      "::::: [V] | Epoch 0 | Loss: 0.871 | top1_error_rate: 0.375 | : 100%|██████████| 625/625 [00:26<00:00, 23.16it/s]                                                                  \n"
     ]
    },
    {
     "name": "stdout",
     "output_type": "stream",
     "text": [
      "::::::::::::::::::::::::::::::::::::::: Evaluating on gaussian_blur_transform: 2 :::::::::::::::::::::::::::::::::::::::\n",
      "Files already downloaded and verified\n"
     ]
    },
    {
     "name": "stderr",
     "output_type": "stream",
     "text": [
      "::::: [V] | Epoch 0 | Loss: 0.912 | top1_error_rate: 0.438 | : 100%|██████████| 625/625 [00:26<00:00, 23.29it/s]                                                                  \n"
     ]
    },
    {
     "name": "stdout",
     "output_type": "stream",
     "text": [
      "::::::::::::::::::::::::::::::::::::::: Evaluating on gaussian_blur_transform: 3 :::::::::::::::::::::::::::::::::::::::\n",
      "Files already downloaded and verified\n"
     ]
    },
    {
     "name": "stderr",
     "output_type": "stream",
     "text": [
      "::::: [V] | Epoch 0 | Loss: 0.997 | top1_error_rate: 0.500 | : 100%|██████████| 625/625 [00:28<00:00, 21.97it/s]                                                                  \n"
     ]
    },
    {
     "name": "stdout",
     "output_type": "stream",
     "text": [
      "::::::::::::::::::::::::::::::::::::::: Evaluating on gaussian_blur_transform: 4 :::::::::::::::::::::::::::::::::::::::\n",
      "Files already downloaded and verified\n"
     ]
    },
    {
     "name": "stderr",
     "output_type": "stream",
     "text": [
      "::::: [V] | Epoch 0 | Loss: 1.183 | top1_error_rate: 0.438 | : 100%|██████████| 625/625 [00:28<00:00, 22.14it/s]                                                                  \n"
     ]
    },
    {
     "name": "stdout",
     "output_type": "stream",
     "text": [
      "::::::::::::::::::::::::::::::::::::::: Evaluating on gaussian_blur_transform: 5 :::::::::::::::::::::::::::::::::::::::\n",
      "Files already downloaded and verified\n"
     ]
    },
    {
     "name": "stderr",
     "output_type": "stream",
     "text": [
      "::::: [V] | Epoch 0 | Loss: 1.566 | top1_error_rate: 0.500 | : 100%|██████████| 625/625 [00:28<00:00, 21.83it/s]                                                                  \n"
     ]
    },
    {
     "name": "stdout",
     "output_type": "stream",
     "text": [
      "::::::::::::::::::::::::::::::::::::::::: Evaluating on contrast_transform: 1 ::::::::::::::::::::::::::::::::::::::::::\n",
      "Files already downloaded and verified\n"
     ]
    },
    {
     "name": "stderr",
     "output_type": "stream",
     "text": [
      "::::: [V] | Epoch 0 | Loss: 0.951 | top1_error_rate: 0.562 | : 100%|██████████| 625/625 [00:25<00:00, 24.94it/s]                                                                  \n"
     ]
    },
    {
     "name": "stdout",
     "output_type": "stream",
     "text": [
      "::::::::::::::::::::::::::::::::::::::::: Evaluating on contrast_transform: 2 ::::::::::::::::::::::::::::::::::::::::::\n",
      "Files already downloaded and verified\n"
     ]
    },
    {
     "name": "stderr",
     "output_type": "stream",
     "text": [
      "::::: [V] | Epoch 0 | Loss: 1.135 | top1_error_rate: 0.500 | : 100%|██████████| 625/625 [00:24<00:00, 25.20it/s]                                                                  \n"
     ]
    },
    {
     "name": "stdout",
     "output_type": "stream",
     "text": [
      "::::::::::::::::::::::::::::::::::::::::: Evaluating on contrast_transform: 3 ::::::::::::::::::::::::::::::::::::::::::\n",
      "Files already downloaded and verified\n"
     ]
    },
    {
     "name": "stderr",
     "output_type": "stream",
     "text": [
      "::::: [V] | Epoch 0 | Loss: 1.351 | top1_error_rate: 0.625 | : 100%|██████████| 625/625 [00:24<00:00, 25.43it/s]                                                                  \n"
     ]
    },
    {
     "name": "stdout",
     "output_type": "stream",
     "text": [
      "::::::::::::::::::::::::::::::::::::::::: Evaluating on contrast_transform: 4 ::::::::::::::::::::::::::::::::::::::::::\n",
      "Files already downloaded and verified\n"
     ]
    },
    {
     "name": "stderr",
     "output_type": "stream",
     "text": [
      "::::: [V] | Epoch 0 | Loss: 1.677 | top1_error_rate: 0.688 | : 100%|██████████| 625/625 [00:24<00:00, 25.82it/s]                                                                  \n"
     ]
    },
    {
     "name": "stdout",
     "output_type": "stream",
     "text": [
      "::::::::::::::::::::::::::::::::::::::::: Evaluating on contrast_transform: 5 ::::::::::::::::::::::::::::::::::::::::::\n",
      "Files already downloaded and verified\n"
     ]
    },
    {
     "name": "stderr",
     "output_type": "stream",
     "text": [
      "::::: [V] | Epoch 0 | Loss: 2.109 | top1_error_rate: 0.688 | : 100%|██████████| 625/625 [00:24<00:00, 25.58it/s]                                                                  \n"
     ]
    },
    {
     "name": "stdout",
     "output_type": "stream",
     "text": [
      "::::::::::::::::::::::::::::::::::::::::::: Evaluating on jpeg_transform: 1 ::::::::::::::::::::::::::::::::::::::::::::\n",
      "Files already downloaded and verified\n"
     ]
    },
    {
     "name": "stderr",
     "output_type": "stream",
     "text": [
      "::::: [V] | Epoch 0 | Loss: 0.893 | top1_error_rate: 0.438 | : 100%|██████████| 625/625 [00:24<00:00, 25.66it/s]                                                                  \n"
     ]
    },
    {
     "name": "stdout",
     "output_type": "stream",
     "text": [
      "::::::::::::::::::::::::::::::::::::::::::: Evaluating on jpeg_transform: 2 ::::::::::::::::::::::::::::::::::::::::::::\n",
      "Files already downloaded and verified\n"
     ]
    },
    {
     "name": "stderr",
     "output_type": "stream",
     "text": [
      "::::: [V] | Epoch 0 | Loss: 0.926 | top1_error_rate: 0.438 | : 100%|██████████| 625/625 [00:23<00:00, 26.29it/s]                                                                  \n"
     ]
    },
    {
     "name": "stdout",
     "output_type": "stream",
     "text": [
      "::::::::::::::::::::::::::::::::::::::::::: Evaluating on jpeg_transform: 3 ::::::::::::::::::::::::::::::::::::::::::::\n",
      "Files already downloaded and verified\n"
     ]
    },
    {
     "name": "stderr",
     "output_type": "stream",
     "text": [
      "::::: [V] | Epoch 0 | Loss: 0.961 | top1_error_rate: 0.500 | : 100%|██████████| 625/625 [00:23<00:00, 26.13it/s]                                                                  \n"
     ]
    },
    {
     "name": "stdout",
     "output_type": "stream",
     "text": [
      "::::::::::::::::::::::::::::::::::::::::::: Evaluating on jpeg_transform: 4 ::::::::::::::::::::::::::::::::::::::::::::\n",
      "Files already downloaded and verified\n"
     ]
    },
    {
     "name": "stderr",
     "output_type": "stream",
     "text": [
      "::::: [V] | Epoch 0 | Loss: 0.937 | top1_error_rate: 0.312 | : 100%|██████████| 625/625 [00:23<00:00, 26.42it/s]                                                                  \n"
     ]
    },
    {
     "name": "stdout",
     "output_type": "stream",
     "text": [
      "::::::::::::::::::::::::::::::::::::::::::: Evaluating on jpeg_transform: 5 ::::::::::::::::::::::::::::::::::::::::::::\n",
      "Files already downloaded and verified\n"
     ]
    },
    {
     "name": "stderr",
     "output_type": "stream",
     "text": [
      "::::: [V] | Epoch 0 | Loss: 1.085 | top1_error_rate: 0.500 | : 100%|██████████| 625/625 [00:23<00:00, 26.48it/s]                                                                  \n"
     ]
    }
   ],
   "source": [
    "test_results = test_model(model, batch_size=16, data_dir=\"../data/\", device=torch.device(\"cpu\"), seed=0)"
   ]
  },
  {
   "cell_type": "code",
   "execution_count": 17,
   "id": "8a7a1cb2-488b-43fb-9318-91255c06bad6",
   "metadata": {},
   "outputs": [
    {
     "data": {
      "text/plain": [
       "{'clean': 0.5852999985218048,\n",
       " 'gaussian_noise_transform_1': 0.5823000073432922,\n",
       " 'gaussian_noise_transform_2': 0.578000009059906,\n",
       " 'gaussian_noise_transform_3': 0.5620999932289124,\n",
       " 'gaussian_noise_transform_4': 0.5325999855995178,\n",
       " 'gaussian_noise_transform_5': 0.43480002880096436,\n",
       " 'gaussian_blur_transform_1': 0.584199994802475,\n",
       " 'gaussian_blur_transform_2': 0.5663999915122986,\n",
       " 'gaussian_blur_transform_3': 0.5304000079631805,\n",
       " 'gaussian_blur_transform_4': 0.44929999113082886,\n",
       " 'gaussian_blur_transform_5': 0.3414999842643738,\n",
       " 'contrast_transform_1': 0.5609999895095825,\n",
       " 'contrast_transform_2': 0.49479997158050537,\n",
       " 'contrast_transform_3': 0.421500027179718,\n",
       " 'contrast_transform_4': 0.3345000147819519,\n",
       " 'contrast_transform_5': 0.24379998445510864,\n",
       " 'jpeg_transform_1': 0.5846000015735626,\n",
       " 'jpeg_transform_2': 0.583299994468689,\n",
       " 'jpeg_transform_3': 0.5798999965190887,\n",
       " 'jpeg_transform_4': 0.5794999897480011,\n",
       " 'jpeg_transform_5': 0.5446000099182129}"
      ]
     },
     "execution_count": 17,
     "metadata": {},
     "output_type": "execute_result"
    }
   ],
   "source": [
    "test_results"
   ]
  },
  {
   "cell_type": "markdown",
   "id": "3f6de3b8-af29-4d0e-a8f2-6db1d48edda5",
   "metadata": {},
   "source": [
    "#### Test `main`"
   ]
  },
  {
   "cell_type": "code",
   "execution_count": 25,
   "id": "6d0b30a9-457d-4f62-bce2-fa7b2236376e",
   "metadata": {},
   "outputs": [
    {
     "name": "stdout",
     "output_type": "stream",
     "text": [
      ":::::::::::::::::::::::::::::::::::::::::::::::::::: Training model ::::::::::::::::::::::::::::::::::::::::::::::::::::\n",
      "Files already downloaded and verified\n",
      "Files already downloaded and verified\n"
     ]
    },
    {
     "name": "stderr",
     "output_type": "stream",
     "text": [
      "::::: [T] | Epoch 0 | Loss: 15.437 | top1_error_rate: 0.875 | : 100%|██████████| 2812/2812 [00:11<00:00, 234.58it/s]                                                              \n",
      "::::: [V] | Epoch 0 | Loss: 10.017 | top1_error_rate: 0.625 | : 100%|██████████| 313/313 [00:00<00:00, 376.33it/s]                                                                \n"
     ]
    },
    {
     "name": "stdout",
     "output_type": "stream",
     "text": [
      "::::: Finished Epoch 0 \n",
      "::::: Training\n",
      "Losses:  {'cross_entropy': array(12.0625725, dtype=float32)}\n",
      "Metrics:  {'top1_error_rate': array(0.7501111, dtype=float32)}\n",
      "::::: Validation\n",
      "Losses:  {'cross_entropy': array(13.190336, dtype=float32)}\n",
      "Metrics:  {'top1_error_rate': array(0.7150559, dtype=float32)}\n",
      "::::: Saving best model so far with validation metrics {'top1_error_rate': array(0.7150559, dtype=float32)} (epoch 0)\n",
      "- -- -- -- -- -- -- -- -- -- -- -- -- -- -- -- -- -- -- -- -- -- -- -- -- -- -- -- -- -- -- -- -- -- -- -- -- -- -- -- -- -- -- -- -- -- -- -- -- -- -\n",
      "::::::::::::::::::::::::::::::::::::::::::::::: Evaluating on clean set ::::::::::::::::::::::::::::::::::::::::::::::::\n",
      "Files already downloaded and verified\n"
     ]
    },
    {
     "name": "stderr",
     "output_type": "stream",
     "text": [
      "::::: [V] | Epoch 0 | Loss: 15.679 | top1_error_rate: 0.688 | : 100%|██████████| 625/625 [00:01<00:00, 398.33it/s]                                                                \n"
     ]
    },
    {
     "name": "stdout",
     "output_type": "stream",
     "text": [
      ":::::::::::::::::::::::::::::::::::::: Evaluating on gaussian_noise_transform: 1 :::::::::::::::::::::::::::::::::::::::\n",
      "Files already downloaded and verified\n"
     ]
    },
    {
     "name": "stderr",
     "output_type": "stream",
     "text": [
      "::::: [V] | Epoch 0 | Loss: 16.199 | top1_error_rate: 0.750 | : 100%|██████████| 625/625 [00:02<00:00, 302.56it/s]                                                                \n"
     ]
    },
    {
     "name": "stdout",
     "output_type": "stream",
     "text": [
      ":::::::::::::::::::::::::::::::::::::: Evaluating on gaussian_noise_transform: 2 :::::::::::::::::::::::::::::::::::::::\n",
      "Files already downloaded and verified\n"
     ]
    },
    {
     "name": "stderr",
     "output_type": "stream",
     "text": [
      "::::: [V] | Epoch 0 | Loss: 15.796 | top1_error_rate: 0.750 | : 100%|██████████| 625/625 [00:02<00:00, 302.46it/s]                                                                \n"
     ]
    },
    {
     "name": "stdout",
     "output_type": "stream",
     "text": [
      ":::::::::::::::::::::::::::::::::::::: Evaluating on gaussian_noise_transform: 3 :::::::::::::::::::::::::::::::::::::::\n",
      "Files already downloaded and verified\n"
     ]
    },
    {
     "name": "stderr",
     "output_type": "stream",
     "text": [
      "::::: [V] | Epoch 0 | Loss: 16.550 | top1_error_rate: 0.625 | : 100%|██████████| 625/625 [00:02<00:00, 303.50it/s]                                                                \n"
     ]
    },
    {
     "name": "stdout",
     "output_type": "stream",
     "text": [
      ":::::::::::::::::::::::::::::::::::::: Evaluating on gaussian_noise_transform: 4 :::::::::::::::::::::::::::::::::::::::\n",
      "Files already downloaded and verified\n"
     ]
    },
    {
     "name": "stderr",
     "output_type": "stream",
     "text": [
      "::::: [V] | Epoch 0 | Loss: 16.368 | top1_error_rate: 0.750 | : 100%|██████████| 625/625 [00:02<00:00, 303.91it/s]                                                                \n"
     ]
    },
    {
     "name": "stdout",
     "output_type": "stream",
     "text": [
      ":::::::::::::::::::::::::::::::::::::: Evaluating on gaussian_noise_transform: 5 :::::::::::::::::::::::::::::::::::::::\n",
      "Files already downloaded and verified\n"
     ]
    },
    {
     "name": "stderr",
     "output_type": "stream",
     "text": [
      "::::: [V] | Epoch 0 | Loss: 15.252 | top1_error_rate: 0.750 | : 100%|██████████| 625/625 [00:02<00:00, 304.12it/s]                                                                \n"
     ]
    },
    {
     "name": "stdout",
     "output_type": "stream",
     "text": [
      "::::::::::::::::::::::::::::::::::::::: Evaluating on gaussian_blur_transform: 1 :::::::::::::::::::::::::::::::::::::::\n",
      "Files already downloaded and verified\n"
     ]
    },
    {
     "name": "stderr",
     "output_type": "stream",
     "text": [
      "::::: [V] | Epoch 0 | Loss: 15.512 | top1_error_rate: 0.688 | : 100%|██████████| 625/625 [00:05<00:00, 115.68it/s]                                                                \n"
     ]
    },
    {
     "name": "stdout",
     "output_type": "stream",
     "text": [
      "::::::::::::::::::::::::::::::::::::::: Evaluating on gaussian_blur_transform: 2 :::::::::::::::::::::::::::::::::::::::\n",
      "Files already downloaded and verified\n"
     ]
    },
    {
     "name": "stderr",
     "output_type": "stream",
     "text": [
      "::::: [V] | Epoch 0 | Loss: 15.015 | top1_error_rate: 0.688 | : 100%|██████████| 625/625 [00:05<00:00, 115.94it/s]                                                                \n"
     ]
    },
    {
     "name": "stdout",
     "output_type": "stream",
     "text": [
      "::::::::::::::::::::::::::::::::::::::: Evaluating on gaussian_blur_transform: 3 :::::::::::::::::::::::::::::::::::::::\n",
      "Files already downloaded and verified\n"
     ]
    },
    {
     "name": "stderr",
     "output_type": "stream",
     "text": [
      "::::: [V] | Epoch 0 | Loss: 14.622 | top1_error_rate: 0.625 | : 100%|██████████| 625/625 [00:05<00:00, 108.74it/s]                                                                \n"
     ]
    },
    {
     "name": "stdout",
     "output_type": "stream",
     "text": [
      "::::::::::::::::::::::::::::::::::::::: Evaluating on gaussian_blur_transform: 4 :::::::::::::::::::::::::::::::::::::::\n",
      "Files already downloaded and verified\n"
     ]
    },
    {
     "name": "stderr",
     "output_type": "stream",
     "text": [
      "::::: [V] | Epoch 0 | Loss: 14.079 | top1_error_rate: 0.688 | : 100%|██████████| 625/625 [00:05<00:00, 112.32it/s]                                                                \n"
     ]
    },
    {
     "name": "stdout",
     "output_type": "stream",
     "text": [
      "::::::::::::::::::::::::::::::::::::::: Evaluating on gaussian_blur_transform: 5 :::::::::::::::::::::::::::::::::::::::\n",
      "Files already downloaded and verified\n"
     ]
    },
    {
     "name": "stderr",
     "output_type": "stream",
     "text": [
      "::::: [V] | Epoch 0 | Loss: 13.489 | top1_error_rate: 0.750 | : 100%|██████████| 625/625 [00:05<00:00, 114.40it/s]                                                                \n"
     ]
    },
    {
     "name": "stdout",
     "output_type": "stream",
     "text": [
      "::::::::::::::::::::::::::::::::::::::::: Evaluating on contrast_transform: 1 ::::::::::::::::::::::::::::::::::::::::::\n",
      "Files already downloaded and verified\n"
     ]
    },
    {
     "name": "stderr",
     "output_type": "stream",
     "text": [
      "::::: [V] | Epoch 0 | Loss: 13.164 | top1_error_rate: 0.688 | : 100%|██████████| 625/625 [00:02<00:00, 234.16it/s]                                                                \n"
     ]
    },
    {
     "name": "stdout",
     "output_type": "stream",
     "text": [
      "::::::::::::::::::::::::::::::::::::::::: Evaluating on contrast_transform: 2 ::::::::::::::::::::::::::::::::::::::::::\n",
      "Files already downloaded and verified\n"
     ]
    },
    {
     "name": "stderr",
     "output_type": "stream",
     "text": [
      "::::: [V] | Epoch 0 | Loss: 11.692 | top1_error_rate: 0.688 | : 100%|██████████| 625/625 [00:02<00:00, 234.38it/s]                                                                \n"
     ]
    },
    {
     "name": "stdout",
     "output_type": "stream",
     "text": [
      "::::::::::::::::::::::::::::::::::::::::: Evaluating on contrast_transform: 3 ::::::::::::::::::::::::::::::::::::::::::\n",
      "Files already downloaded and verified\n"
     ]
    },
    {
     "name": "stderr",
     "output_type": "stream",
     "text": [
      "::::: [V] | Epoch 0 | Loss: 10.734 | top1_error_rate: 0.688 | : 100%|██████████| 625/625 [00:02<00:00, 218.80it/s]                                                                \n"
     ]
    },
    {
     "name": "stdout",
     "output_type": "stream",
     "text": [
      "::::::::::::::::::::::::::::::::::::::::: Evaluating on contrast_transform: 4 ::::::::::::::::::::::::::::::::::::::::::\n",
      "Files already downloaded and verified\n"
     ]
    },
    {
     "name": "stderr",
     "output_type": "stream",
     "text": [
      "::::: [V] | Epoch 0 | Loss: 9.823 | top1_error_rate: 0.688 | : 100%|██████████| 625/625 [00:02<00:00, 218.30it/s]                                                                 \n"
     ]
    },
    {
     "name": "stdout",
     "output_type": "stream",
     "text": [
      "::::::::::::::::::::::::::::::::::::::::: Evaluating on contrast_transform: 5 ::::::::::::::::::::::::::::::::::::::::::\n",
      "Files already downloaded and verified\n"
     ]
    },
    {
     "name": "stderr",
     "output_type": "stream",
     "text": [
      "::::: [V] | Epoch 0 | Loss: 9.043 | top1_error_rate: 0.750 | : 100%|██████████| 625/625 [00:02<00:00, 243.55it/s]                                                                 \n"
     ]
    },
    {
     "name": "stdout",
     "output_type": "stream",
     "text": [
      "::::::::::::::::::::::::::::::::::::::::::: Evaluating on jpeg_transform: 1 ::::::::::::::::::::::::::::::::::::::::::::\n",
      "Files already downloaded and verified\n"
     ]
    },
    {
     "name": "stderr",
     "output_type": "stream",
     "text": [
      "::::: [V] | Epoch 0 | Loss: 15.676 | top1_error_rate: 0.688 | : 100%|██████████| 625/625 [00:02<00:00, 243.69it/s]                                                                \n"
     ]
    },
    {
     "name": "stdout",
     "output_type": "stream",
     "text": [
      "::::::::::::::::::::::::::::::::::::::::::: Evaluating on jpeg_transform: 2 ::::::::::::::::::::::::::::::::::::::::::::\n",
      "Files already downloaded and verified\n"
     ]
    },
    {
     "name": "stderr",
     "output_type": "stream",
     "text": [
      "::::: [V] | Epoch 0 | Loss: 15.934 | top1_error_rate: 0.688 | : 100%|██████████| 625/625 [00:02<00:00, 233.76it/s]                                                                \n"
     ]
    },
    {
     "name": "stdout",
     "output_type": "stream",
     "text": [
      "::::::::::::::::::::::::::::::::::::::::::: Evaluating on jpeg_transform: 3 ::::::::::::::::::::::::::::::::::::::::::::\n",
      "Files already downloaded and verified\n"
     ]
    },
    {
     "name": "stderr",
     "output_type": "stream",
     "text": [
      "::::: [V] | Epoch 0 | Loss: 15.807 | top1_error_rate: 0.688 | : 100%|██████████| 625/625 [00:02<00:00, 220.36it/s]                                                                \n"
     ]
    },
    {
     "name": "stdout",
     "output_type": "stream",
     "text": [
      "::::::::::::::::::::::::::::::::::::::::::: Evaluating on jpeg_transform: 4 ::::::::::::::::::::::::::::::::::::::::::::\n",
      "Files already downloaded and verified\n"
     ]
    },
    {
     "name": "stderr",
     "output_type": "stream",
     "text": [
      "::::: [V] | Epoch 0 | Loss: 15.730 | top1_error_rate: 0.750 | : 100%|██████████| 625/625 [00:02<00:00, 248.00it/s]                                                                \n"
     ]
    },
    {
     "name": "stdout",
     "output_type": "stream",
     "text": [
      "::::::::::::::::::::::::::::::::::::::::::: Evaluating on jpeg_transform: 5 ::::::::::::::::::::::::::::::::::::::::::::\n",
      "Files already downloaded and verified\n"
     ]
    },
    {
     "name": "stderr",
     "output_type": "stream",
     "text": [
      "::::: [V] | Epoch 0 | Loss: 15.676 | top1_error_rate: 0.750 | : 100%|██████████| 625/625 [00:02<00:00, 244.13it/s]                                                                \n"
     ]
    }
   ],
   "source": [
    "main(model_name=\"debug\", lr=1e-2, batch_size=16, epochs=1, data_dir=\"../data/\", seed=0)"
   ]
  },
  {
   "cell_type": "code",
   "execution_count": null,
   "id": "9d0c4a24-bc40-4357-b2c5-4ae1053d64ef",
   "metadata": {},
   "outputs": [],
   "source": []
  }
 ],
 "metadata": {
  "kernelspec": {
   "display_name": "Python 3 (ipykernel)",
   "language": "python",
   "name": "python3"
  },
  "language_info": {
   "codemirror_mode": {
    "name": "ipython",
    "version": 3
   },
   "file_extension": ".py",
   "mimetype": "text/x-python",
   "name": "python",
   "nbconvert_exporter": "python",
   "pygments_lexer": "ipython3",
   "version": "3.9.7"
  }
 },
 "nbformat": 4,
 "nbformat_minor": 5
}
