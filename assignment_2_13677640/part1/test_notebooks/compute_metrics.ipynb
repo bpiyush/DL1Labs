{
 "cells": [
  {
   "cell_type": "code",
   "execution_count": 1,
   "id": "43404db7-b122-4838-ac2f-0a9021757085",
   "metadata": {},
   "outputs": [],
   "source": [
    "%load_ext autoreload\n",
    "%autoreload 2"
   ]
  },
  {
   "cell_type": "code",
   "execution_count": 2,
   "id": "c88359bf-51f2-4c16-97c9-03b631b8ccfd",
   "metadata": {},
   "outputs": [],
   "source": [
    "from os.path import join\n",
    "from collections import defaultdict\n",
    "\n",
    "import numpy as np\n",
    "import matplotlib.pyplot as plt\n",
    "import seaborn as sns\n",
    "import pandas as pd"
   ]
  },
  {
   "cell_type": "code",
   "execution_count": 3,
   "id": "10c4f484-1259-4675-960e-f6d0c51b3a20",
   "metadata": {},
   "outputs": [],
   "source": [
    "import sys; sys.path.append(\"../\")\n",
    "\n",
    "from utils import load_json"
   ]
  },
  {
   "cell_type": "code",
   "execution_count": 4,
   "id": "e93ff42e-a02b-404f-a30e-796505a27487",
   "metadata": {},
   "outputs": [],
   "source": [
    "plt.rcParams.update({\n",
    "    \"text.usetex\": True,\n",
    "    \"font.family\": \"serif\",\n",
    "    \"font.serif\": [\"Computer Modern Roman\"],\n",
    "})"
   ]
  },
  {
   "cell_type": "markdown",
   "id": "7c265cd7-e803-4f1c-bf03-85ed3d1dd605",
   "metadata": {},
   "source": [
    "### Load all results"
   ]
  },
  {
   "cell_type": "code",
   "execution_count": 5,
   "id": "2aaa3b2f-74f6-4677-8437-6d315db01743",
   "metadata": {},
   "outputs": [],
   "source": [
    "path_tmpl = \"../results/%s_results.json\""
   ]
  },
  {
   "cell_type": "code",
   "execution_count": 6,
   "id": "bf272300-3b77-41da-a2b8-0bc1c3e59ec8",
   "metadata": {},
   "outputs": [],
   "source": [
    "MODELS = [\"resnet18\", \"resnet34\", \"vgg11\", \"vgg11_bn\", \"densenet121\"]\n",
    "CORRUPTIONS = [\"clean\", \"gaussian_noise\", \"gaussian_blur\", \"contrast\", \"jpeg\"]\n",
    "\n",
    "NUM_SEVERITY_LEVEL = 5"
   ]
  },
  {
   "cell_type": "code",
   "execution_count": 7,
   "id": "025acf61-a58e-45fe-802d-ae9d38d144ed",
   "metadata": {},
   "outputs": [],
   "source": [
    "df = pd.DataFrame(None, index=MODELS, columns=CORRUPTIONS)\n",
    "\n",
    "for model in MODELS:\n",
    "    # top-1 accuracy\n",
    "    raw_results = load_json(path_tmpl % model)\n",
    "    # top-1 error rate\n",
    "    raw_results = {k: 1 - v for k, v in raw_results.items()}\n",
    "    # print(model, raw_results[\"clean\"])\n",
    "    add_results = defaultdict(lambda: 0)\n",
    "    \n",
    "    for key, value in raw_results.items():\n",
    "        key = key.split(\"_transform_\")[0]\n",
    "        add_results[key] += value\n",
    "    \n",
    "    df.loc[model] = dict(add_results)"
   ]
  },
  {
   "cell_type": "code",
   "execution_count": 8,
   "id": "ec86e07d-9af7-4b6d-b7c0-287acf89c273",
   "metadata": {},
   "outputs": [
    {
     "data": {
      "text/html": [
       "<div>\n",
       "<style scoped>\n",
       "    .dataframe tbody tr th:only-of-type {\n",
       "        vertical-align: middle;\n",
       "    }\n",
       "\n",
       "    .dataframe tbody tr th {\n",
       "        vertical-align: top;\n",
       "    }\n",
       "\n",
       "    .dataframe thead th {\n",
       "        text-align: right;\n",
       "    }\n",
       "</style>\n",
       "<table border=\"1\" class=\"dataframe\">\n",
       "  <thead>\n",
       "    <tr style=\"text-align: right;\">\n",
       "      <th></th>\n",
       "      <th>clean</th>\n",
       "      <th>gaussian_noise</th>\n",
       "      <th>gaussian_blur</th>\n",
       "      <th>contrast</th>\n",
       "      <th>jpeg</th>\n",
       "    </tr>\n",
       "  </thead>\n",
       "  <tbody>\n",
       "    <tr>\n",
       "      <th>resnet18</th>\n",
       "      <td>0.174545</td>\n",
       "      <td>1.75623</td>\n",
       "      <td>1.300633</td>\n",
       "      <td>1.508406</td>\n",
       "      <td>1.071796</td>\n",
       "    </tr>\n",
       "    <tr>\n",
       "      <th>resnet34</th>\n",
       "      <td>0.174644</td>\n",
       "      <td>1.687994</td>\n",
       "      <td>1.317741</td>\n",
       "      <td>1.509988</td>\n",
       "      <td>1.083564</td>\n",
       "    </tr>\n",
       "    <tr>\n",
       "      <th>vgg11</th>\n",
       "      <td>0.132911</td>\n",
       "      <td>1.976167</td>\n",
       "      <td>1.119956</td>\n",
       "      <td>1.048161</td>\n",
       "      <td>0.927017</td>\n",
       "    </tr>\n",
       "    <tr>\n",
       "      <th>vgg11_bn</th>\n",
       "      <td>0.115704</td>\n",
       "      <td>2.277492</td>\n",
       "      <td>1.086729</td>\n",
       "      <td>1.015427</td>\n",
       "      <td>0.955795</td>\n",
       "    </tr>\n",
       "    <tr>\n",
       "      <th>densenet121</th>\n",
       "      <td>0.147152</td>\n",
       "      <td>1.714597</td>\n",
       "      <td>1.225771</td>\n",
       "      <td>1.435423</td>\n",
       "      <td>0.995154</td>\n",
       "    </tr>\n",
       "  </tbody>\n",
       "</table>\n",
       "</div>"
      ],
      "text/plain": [
       "                clean gaussian_noise gaussian_blur  contrast      jpeg\n",
       "resnet18     0.174545        1.75623      1.300633  1.508406  1.071796\n",
       "resnet34     0.174644       1.687994      1.317741  1.509988  1.083564\n",
       "vgg11        0.132911       1.976167      1.119956  1.048161  0.927017\n",
       "vgg11_bn     0.115704       2.277492      1.086729  1.015427  0.955795\n",
       "densenet121  0.147152       1.714597      1.225771  1.435423  0.995154"
      ]
     },
     "execution_count": 8,
     "metadata": {},
     "output_type": "execute_result"
    }
   ],
   "source": [
    "df"
   ]
  },
  {
   "cell_type": "code",
   "execution_count": 9,
   "id": "99fa46de-c697-44e8-8051-f367eefbe01a",
   "metadata": {},
   "outputs": [],
   "source": [
    "df_ce = df.copy()\n",
    "df_rce = df.copy()"
   ]
  },
  {
   "cell_type": "code",
   "execution_count": 10,
   "id": "546cdc59-c2b8-4c15-97d2-6f04c58a920c",
   "metadata": {},
   "outputs": [],
   "source": [
    "# subtract the clean error rate\n",
    "df_rce = df_rce.iloc[:,:].subtract(NUM_SEVERITY_LEVEL * df_rce.clean, axis=0)\n",
    "df_rce.drop(columns=[\"clean\"], inplace=True)\n",
    "\n",
    "df_ce.drop(columns=[\"clean\"], inplace=True)"
   ]
  },
  {
   "cell_type": "code",
   "execution_count": 11,
   "id": "3da4d970-6c0b-442a-8a17-a9f39729805d",
   "metadata": {},
   "outputs": [
    {
     "data": {
      "text/html": [
       "<div>\n",
       "<style scoped>\n",
       "    .dataframe tbody tr th:only-of-type {\n",
       "        vertical-align: middle;\n",
       "    }\n",
       "\n",
       "    .dataframe tbody tr th {\n",
       "        vertical-align: top;\n",
       "    }\n",
       "\n",
       "    .dataframe thead th {\n",
       "        text-align: right;\n",
       "    }\n",
       "</style>\n",
       "<table border=\"1\" class=\"dataframe\">\n",
       "  <thead>\n",
       "    <tr style=\"text-align: right;\">\n",
       "      <th></th>\n",
       "      <th>gaussian_noise</th>\n",
       "      <th>gaussian_blur</th>\n",
       "      <th>contrast</th>\n",
       "      <th>jpeg</th>\n",
       "    </tr>\n",
       "  </thead>\n",
       "  <tbody>\n",
       "    <tr>\n",
       "      <th>resnet18</th>\n",
       "      <td>0.883505</td>\n",
       "      <td>0.427907</td>\n",
       "      <td>0.63568</td>\n",
       "      <td>0.19907</td>\n",
       "    </tr>\n",
       "    <tr>\n",
       "      <th>resnet34</th>\n",
       "      <td>0.814774</td>\n",
       "      <td>0.444521</td>\n",
       "      <td>0.636768</td>\n",
       "      <td>0.210344</td>\n",
       "    </tr>\n",
       "    <tr>\n",
       "      <th>vgg11</th>\n",
       "      <td>1.31161</td>\n",
       "      <td>0.455399</td>\n",
       "      <td>0.383604</td>\n",
       "      <td>0.26246</td>\n",
       "    </tr>\n",
       "    <tr>\n",
       "      <th>vgg11_bn</th>\n",
       "      <td>1.698972</td>\n",
       "      <td>0.508208</td>\n",
       "      <td>0.436907</td>\n",
       "      <td>0.377275</td>\n",
       "    </tr>\n",
       "    <tr>\n",
       "      <th>densenet121</th>\n",
       "      <td>0.978837</td>\n",
       "      <td>0.490012</td>\n",
       "      <td>0.699664</td>\n",
       "      <td>0.259395</td>\n",
       "    </tr>\n",
       "  </tbody>\n",
       "</table>\n",
       "</div>"
      ],
      "text/plain": [
       "            gaussian_noise gaussian_blur  contrast      jpeg\n",
       "resnet18          0.883505      0.427907   0.63568   0.19907\n",
       "resnet34          0.814774      0.444521  0.636768  0.210344\n",
       "vgg11              1.31161      0.455399  0.383604   0.26246\n",
       "vgg11_bn          1.698972      0.508208  0.436907  0.377275\n",
       "densenet121       0.978837      0.490012  0.699664  0.259395"
      ]
     },
     "execution_count": 11,
     "metadata": {},
     "output_type": "execute_result"
    }
   ],
   "source": [
    "df_rce"
   ]
  },
  {
   "cell_type": "code",
   "execution_count": 12,
   "id": "c98b296d-b0d1-43a8-b4b2-7d32a4663bb6",
   "metadata": {},
   "outputs": [
    {
     "data": {
      "text/html": [
       "<div>\n",
       "<style scoped>\n",
       "    .dataframe tbody tr th:only-of-type {\n",
       "        vertical-align: middle;\n",
       "    }\n",
       "\n",
       "    .dataframe tbody tr th {\n",
       "        vertical-align: top;\n",
       "    }\n",
       "\n",
       "    .dataframe thead th {\n",
       "        text-align: right;\n",
       "    }\n",
       "</style>\n",
       "<table border=\"1\" class=\"dataframe\">\n",
       "  <thead>\n",
       "    <tr style=\"text-align: right;\">\n",
       "      <th></th>\n",
       "      <th>gaussian_noise</th>\n",
       "      <th>gaussian_blur</th>\n",
       "      <th>contrast</th>\n",
       "      <th>jpeg</th>\n",
       "    </tr>\n",
       "  </thead>\n",
       "  <tbody>\n",
       "    <tr>\n",
       "      <th>resnet18</th>\n",
       "      <td>1.75623</td>\n",
       "      <td>1.300633</td>\n",
       "      <td>1.508406</td>\n",
       "      <td>1.071796</td>\n",
       "    </tr>\n",
       "    <tr>\n",
       "      <th>resnet34</th>\n",
       "      <td>1.687994</td>\n",
       "      <td>1.317741</td>\n",
       "      <td>1.509988</td>\n",
       "      <td>1.083564</td>\n",
       "    </tr>\n",
       "    <tr>\n",
       "      <th>vgg11</th>\n",
       "      <td>1.976167</td>\n",
       "      <td>1.119956</td>\n",
       "      <td>1.048161</td>\n",
       "      <td>0.927017</td>\n",
       "    </tr>\n",
       "    <tr>\n",
       "      <th>vgg11_bn</th>\n",
       "      <td>2.277492</td>\n",
       "      <td>1.086729</td>\n",
       "      <td>1.015427</td>\n",
       "      <td>0.955795</td>\n",
       "    </tr>\n",
       "    <tr>\n",
       "      <th>densenet121</th>\n",
       "      <td>1.714597</td>\n",
       "      <td>1.225771</td>\n",
       "      <td>1.435423</td>\n",
       "      <td>0.995154</td>\n",
       "    </tr>\n",
       "  </tbody>\n",
       "</table>\n",
       "</div>"
      ],
      "text/plain": [
       "            gaussian_noise gaussian_blur  contrast      jpeg\n",
       "resnet18           1.75623      1.300633  1.508406  1.071796\n",
       "resnet34          1.687994      1.317741  1.509988  1.083564\n",
       "vgg11             1.976167      1.119956  1.048161  0.927017\n",
       "vgg11_bn          2.277492      1.086729  1.015427  0.955795\n",
       "densenet121       1.714597      1.225771  1.435423  0.995154"
      ]
     },
     "execution_count": 12,
     "metadata": {},
     "output_type": "execute_result"
    }
   ],
   "source": [
    "df_ce"
   ]
  },
  {
   "cell_type": "code",
   "execution_count": 13,
   "id": "7e9dea66-795d-4b81-a671-6c1d6c3dbe41",
   "metadata": {},
   "outputs": [],
   "source": [
    "# divide by resnet18 performance\n",
    "df_ce = df_ce.iloc[:,:].div(df_ce.T.resnet18, axis=1)\n",
    "df_ce.drop(index=[\"resnet18\"], inplace=True)\n",
    "\n",
    "df_rce = df_rce.iloc[:,:].div(df_rce.T.resnet18, axis=1)\n",
    "df_rce.drop(index=[\"resnet18\"], inplace=True)"
   ]
  },
  {
   "cell_type": "code",
   "execution_count": 14,
   "id": "2733a2e6-fdf8-45a1-a165-06d7c725214e",
   "metadata": {},
   "outputs": [
    {
     "data": {
      "text/html": [
       "<div>\n",
       "<style scoped>\n",
       "    .dataframe tbody tr th:only-of-type {\n",
       "        vertical-align: middle;\n",
       "    }\n",
       "\n",
       "    .dataframe tbody tr th {\n",
       "        vertical-align: top;\n",
       "    }\n",
       "\n",
       "    .dataframe thead th {\n",
       "        text-align: right;\n",
       "    }\n",
       "</style>\n",
       "<table border=\"1\" class=\"dataframe\">\n",
       "  <thead>\n",
       "    <tr style=\"text-align: right;\">\n",
       "      <th></th>\n",
       "      <th>gaussian_noise</th>\n",
       "      <th>gaussian_blur</th>\n",
       "      <th>contrast</th>\n",
       "      <th>jpeg</th>\n",
       "    </tr>\n",
       "  </thead>\n",
       "  <tbody>\n",
       "    <tr>\n",
       "      <th>resnet34</th>\n",
       "      <td>0.961146</td>\n",
       "      <td>1.013154</td>\n",
       "      <td>1.001049</td>\n",
       "      <td>1.01098</td>\n",
       "    </tr>\n",
       "    <tr>\n",
       "      <th>vgg11</th>\n",
       "      <td>1.125232</td>\n",
       "      <td>0.861086</td>\n",
       "      <td>0.69488</td>\n",
       "      <td>0.86492</td>\n",
       "    </tr>\n",
       "    <tr>\n",
       "      <th>vgg11_bn</th>\n",
       "      <td>1.296807</td>\n",
       "      <td>0.835538</td>\n",
       "      <td>0.673179</td>\n",
       "      <td>0.89177</td>\n",
       "    </tr>\n",
       "    <tr>\n",
       "      <th>densenet121</th>\n",
       "      <td>0.976294</td>\n",
       "      <td>0.942442</td>\n",
       "      <td>0.951616</td>\n",
       "      <td>0.928492</td>\n",
       "    </tr>\n",
       "  </tbody>\n",
       "</table>\n",
       "</div>"
      ],
      "text/plain": [
       "            gaussian_noise gaussian_blur  contrast      jpeg\n",
       "resnet34          0.961146      1.013154  1.001049   1.01098\n",
       "vgg11             1.125232      0.861086   0.69488   0.86492\n",
       "vgg11_bn          1.296807      0.835538  0.673179   0.89177\n",
       "densenet121       0.976294      0.942442  0.951616  0.928492"
      ]
     },
     "execution_count": 14,
     "metadata": {},
     "output_type": "execute_result"
    }
   ],
   "source": [
    "df_ce"
   ]
  },
  {
   "cell_type": "code",
   "execution_count": 15,
   "id": "1a64cab3-fc9d-4d96-9423-a75f130b5292",
   "metadata": {},
   "outputs": [
    {
     "data": {
      "text/html": [
       "<div>\n",
       "<style scoped>\n",
       "    .dataframe tbody tr th:only-of-type {\n",
       "        vertical-align: middle;\n",
       "    }\n",
       "\n",
       "    .dataframe tbody tr th {\n",
       "        vertical-align: top;\n",
       "    }\n",
       "\n",
       "    .dataframe thead th {\n",
       "        text-align: right;\n",
       "    }\n",
       "</style>\n",
       "<table border=\"1\" class=\"dataframe\">\n",
       "  <thead>\n",
       "    <tr style=\"text-align: right;\">\n",
       "      <th></th>\n",
       "      <th>gaussian_noise</th>\n",
       "      <th>gaussian_blur</th>\n",
       "      <th>contrast</th>\n",
       "      <th>jpeg</th>\n",
       "    </tr>\n",
       "  </thead>\n",
       "  <tbody>\n",
       "    <tr>\n",
       "      <th>resnet34</th>\n",
       "      <td>0.922207</td>\n",
       "      <td>1.038826</td>\n",
       "      <td>1.001711</td>\n",
       "      <td>1.056632</td>\n",
       "    </tr>\n",
       "    <tr>\n",
       "      <th>vgg11</th>\n",
       "      <td>1.484553</td>\n",
       "      <td>1.064248</td>\n",
       "      <td>0.603454</td>\n",
       "      <td>1.31843</td>\n",
       "    </tr>\n",
       "    <tr>\n",
       "      <th>vgg11_bn</th>\n",
       "      <td>1.922991</td>\n",
       "      <td>1.187659</td>\n",
       "      <td>0.687306</td>\n",
       "      <td>1.895182</td>\n",
       "    </tr>\n",
       "    <tr>\n",
       "      <th>densenet121</th>\n",
       "      <td>1.107902</td>\n",
       "      <td>1.145135</td>\n",
       "      <td>1.100653</td>\n",
       "      <td>1.30303</td>\n",
       "    </tr>\n",
       "  </tbody>\n",
       "</table>\n",
       "</div>"
      ],
      "text/plain": [
       "            gaussian_noise gaussian_blur  contrast      jpeg\n",
       "resnet34          0.922207      1.038826  1.001711  1.056632\n",
       "vgg11             1.484553      1.064248  0.603454   1.31843\n",
       "vgg11_bn          1.922991      1.187659  0.687306  1.895182\n",
       "densenet121       1.107902      1.145135  1.100653   1.30303"
      ]
     },
     "execution_count": 15,
     "metadata": {},
     "output_type": "execute_result"
    }
   ],
   "source": [
    "df_rce"
   ]
  },
  {
   "cell_type": "markdown",
   "id": "02360ab1-5aa8-4960-aab8-df515b67bd9b",
   "metadata": {},
   "source": [
    "### Visualize results"
   ]
  },
  {
   "cell_type": "code",
   "execution_count": 16,
   "id": "c75f0f96-da6e-4091-b831-8fdaf1ca0332",
   "metadata": {},
   "outputs": [],
   "source": [
    "def plot_multiple_categorical_histogram(\n",
    "        x,\n",
    "        lists_of_counts,\n",
    "        labels,\n",
    "        xlabels,\n",
    "        width=0.6,\n",
    "        figsize=(6, 5),\n",
    "        title=\"Categorical distribution\",\n",
    "        xlabel=\"Classes\",\n",
    "        ylabel=\"Counts\",\n",
    "        filname=\"../results/sample.png\",\n",
    "    ):\n",
    "    \"\"\"Plots bar-plot.\"\"\"\n",
    "\n",
    "    # assert len(lists_of_values) == len(labels)\n",
    "    num_distributions = len(labels)\n",
    "    width_per_dist = width / num_distributions\n",
    "    starting_points = np.linspace(-width_per_dist, width_per_dist, num_distributions)\n",
    "    offset = width_per_dist / num_distributions\n",
    "    center_points = [x + ((x < 0) * offset) + (-1 * (x > 0) * offset) for x in starting_points]\n",
    "    center_points = [[-0.875, -0.125, 0.125, 0.875] for _ in range(num_distributions)]\n",
    "    center_points = np.array([-0.375, -0.125, 0.125, 0.375])\n",
    "\n",
    "    fig, ax = plt.subplots(1, 1, figsize=figsize, constrained_layout=True)\n",
    "\n",
    "    for i, values in enumerate(lists_of_counts):\n",
    "        ax.bar(\n",
    "            x=x - center_points[i],\n",
    "            height=lists_of_counts[i],\n",
    "            label=labels[i].replace(\"_\", \"-\"),\n",
    "            width=width_per_dist,\n",
    "            align=\"center\",\n",
    "        )\n",
    "\n",
    "    ax.grid()\n",
    "    ax.set_title(title, fontsize=18)\n",
    "    _xlabels = [\"\" for i in range(x[-1] + 1)]\n",
    "    for i, z in enumerate(x):\n",
    "        _xlabels[z] = xlabels[i].replace(\"_\", \"-\") + f\" (m{ylabel}: {np.mean(lists_of_counts[:, i]):.4f})\"\n",
    "    ax.set_xticklabels(_xlabels, fontsize=13)\n",
    "\n",
    "    ax.set_xlabel(xlabel, fontsize=15)\n",
    "    ax.set_ylabel(ylabel, fontsize=15)\n",
    "    ax.legend(fontsize=13)\n",
    "    \n",
    "    plt.savefig(filname, bbox_inches=\"tight\")\n",
    "\n",
    "    plt.show()"
   ]
  },
  {
   "cell_type": "code",
   "execution_count": 17,
   "id": "6417be4b-fc60-4ff8-baf1-fbd6eb915db2",
   "metadata": {},
   "outputs": [
    {
     "data": {
      "text/html": [
       "<div>\n",
       "<style scoped>\n",
       "    .dataframe tbody tr th:only-of-type {\n",
       "        vertical-align: middle;\n",
       "    }\n",
       "\n",
       "    .dataframe tbody tr th {\n",
       "        vertical-align: top;\n",
       "    }\n",
       "\n",
       "    .dataframe thead th {\n",
       "        text-align: right;\n",
       "    }\n",
       "</style>\n",
       "<table border=\"1\" class=\"dataframe\">\n",
       "  <thead>\n",
       "    <tr style=\"text-align: right;\">\n",
       "      <th></th>\n",
       "      <th>gaussian_noise</th>\n",
       "      <th>gaussian_blur</th>\n",
       "      <th>contrast</th>\n",
       "      <th>jpeg</th>\n",
       "    </tr>\n",
       "  </thead>\n",
       "  <tbody>\n",
       "    <tr>\n",
       "      <th>resnet34</th>\n",
       "      <td>0.961146</td>\n",
       "      <td>1.013154</td>\n",
       "      <td>1.001049</td>\n",
       "      <td>1.01098</td>\n",
       "    </tr>\n",
       "    <tr>\n",
       "      <th>vgg11</th>\n",
       "      <td>1.125232</td>\n",
       "      <td>0.861086</td>\n",
       "      <td>0.69488</td>\n",
       "      <td>0.86492</td>\n",
       "    </tr>\n",
       "    <tr>\n",
       "      <th>vgg11_bn</th>\n",
       "      <td>1.296807</td>\n",
       "      <td>0.835538</td>\n",
       "      <td>0.673179</td>\n",
       "      <td>0.89177</td>\n",
       "    </tr>\n",
       "    <tr>\n",
       "      <th>densenet121</th>\n",
       "      <td>0.976294</td>\n",
       "      <td>0.942442</td>\n",
       "      <td>0.951616</td>\n",
       "      <td>0.928492</td>\n",
       "    </tr>\n",
       "  </tbody>\n",
       "</table>\n",
       "</div>"
      ],
      "text/plain": [
       "            gaussian_noise gaussian_blur  contrast      jpeg\n",
       "resnet34          0.961146      1.013154  1.001049   1.01098\n",
       "vgg11             1.125232      0.861086   0.69488   0.86492\n",
       "vgg11_bn          1.296807      0.835538  0.673179   0.89177\n",
       "densenet121       0.976294      0.942442  0.951616  0.928492"
      ]
     },
     "execution_count": 17,
     "metadata": {},
     "output_type": "execute_result"
    }
   ],
   "source": [
    "df_ce"
   ]
  },
  {
   "cell_type": "code",
   "execution_count": 18,
   "id": "e800f9f2-f220-4d34-8e68-2147803d7e59",
   "metadata": {},
   "outputs": [
    {
     "data": {
      "text/plain": [
       "resnet34       0.996582\n",
       "vgg11          0.886529\n",
       "vgg11_bn       0.924324\n",
       "densenet121    0.949711\n",
       "dtype: float64"
      ]
     },
     "execution_count": 18,
     "metadata": {},
     "output_type": "execute_result"
    }
   ],
   "source": [
    "df_ce.mean(axis=1)"
   ]
  },
  {
   "cell_type": "code",
   "execution_count": 19,
   "id": "ab405c75-dfe0-45d5-8332-be1cb95d77fa",
   "metadata": {},
   "outputs": [
    {
     "name": "stderr",
     "output_type": "stream",
     "text": [
      "/var/folders/nw/93_by3716yn881ckngw_vmp40000gn/T/ipykernel_36171/565391879.py:40: UserWarning: FixedFormatter should only be used together with FixedLocator\n",
      "  ax.set_xticklabels(_xlabels, fontsize=13)\n"
     ]
    },
    {
     "data": {
      "image/png": "[encoded data removed]",
      "text/plain": [
       "<Figure size 792x504 with 1 Axes>"
      ]
     },
     "metadata": {
      "needs_background": "light"
     },
     "output_type": "display_data"
    }
   ],
   "source": [
    "plot_multiple_categorical_histogram(\n",
    "    [1, 3, 5, 7],\n",
    "    df_ce.values.T,\n",
    "    labels=list(df_ce.columns),\n",
    "    xlabels=list(df_ce.index),\n",
    "    title=\"CE for models for various types of corruption\",\n",
    "    xlabel=\"Models\",\n",
    "    ylabel=\"CE\",\n",
    "    width=1.0,\n",
    "    figsize=(11, 7),\n",
    "    filname=\"../results/ce_error_across_models.png\"\n",
    ")"
   ]
  },
  {
   "cell_type": "code",
   "execution_count": 20,
   "id": "327c4531-636a-48c8-bf96-ec3974fe29b3",
   "metadata": {},
   "outputs": [
    {
     "data": {
      "text/html": [
       "<div>\n",
       "<style scoped>\n",
       "    .dataframe tbody tr th:only-of-type {\n",
       "        vertical-align: middle;\n",
       "    }\n",
       "\n",
       "    .dataframe tbody tr th {\n",
       "        vertical-align: top;\n",
       "    }\n",
       "\n",
       "    .dataframe thead th {\n",
       "        text-align: right;\n",
       "    }\n",
       "</style>\n",
       "<table border=\"1\" class=\"dataframe\">\n",
       "  <thead>\n",
       "    <tr style=\"text-align: right;\">\n",
       "      <th></th>\n",
       "      <th>gaussian_noise</th>\n",
       "      <th>gaussian_blur</th>\n",
       "      <th>contrast</th>\n",
       "      <th>jpeg</th>\n",
       "    </tr>\n",
       "  </thead>\n",
       "  <tbody>\n",
       "    <tr>\n",
       "      <th>resnet34</th>\n",
       "      <td>0.922207</td>\n",
       "      <td>1.038826</td>\n",
       "      <td>1.001711</td>\n",
       "      <td>1.056632</td>\n",
       "    </tr>\n",
       "    <tr>\n",
       "      <th>vgg11</th>\n",
       "      <td>1.484553</td>\n",
       "      <td>1.064248</td>\n",
       "      <td>0.603454</td>\n",
       "      <td>1.31843</td>\n",
       "    </tr>\n",
       "    <tr>\n",
       "      <th>vgg11_bn</th>\n",
       "      <td>1.922991</td>\n",
       "      <td>1.187659</td>\n",
       "      <td>0.687306</td>\n",
       "      <td>1.895182</td>\n",
       "    </tr>\n",
       "    <tr>\n",
       "      <th>densenet121</th>\n",
       "      <td>1.107902</td>\n",
       "      <td>1.145135</td>\n",
       "      <td>1.100653</td>\n",
       "      <td>1.30303</td>\n",
       "    </tr>\n",
       "  </tbody>\n",
       "</table>\n",
       "</div>"
      ],
      "text/plain": [
       "            gaussian_noise gaussian_blur  contrast      jpeg\n",
       "resnet34          0.922207      1.038826  1.001711  1.056632\n",
       "vgg11             1.484553      1.064248  0.603454   1.31843\n",
       "vgg11_bn          1.922991      1.187659  0.687306  1.895182\n",
       "densenet121       1.107902      1.145135  1.100653   1.30303"
      ]
     },
     "execution_count": 20,
     "metadata": {},
     "output_type": "execute_result"
    }
   ],
   "source": [
    "df_rce"
   ]
  },
  {
   "cell_type": "code",
   "execution_count": 21,
   "id": "1b600098-aedd-47c7-be3b-7370a2391105",
   "metadata": {},
   "outputs": [
    {
     "data": {
      "text/plain": [
       "resnet34       1.004844\n",
       "vgg11          1.117671\n",
       "vgg11_bn       1.423284\n",
       "densenet121    1.164180\n",
       "dtype: float64"
      ]
     },
     "execution_count": 21,
     "metadata": {},
     "output_type": "execute_result"
    }
   ],
   "source": [
    "df_rce.mean(axis=1)"
   ]
  },
  {
   "cell_type": "code",
   "execution_count": 22,
   "id": "8d275d04-f1b3-40d8-b4e4-0f4edb9e41dd",
   "metadata": {},
   "outputs": [
    {
     "name": "stderr",
     "output_type": "stream",
     "text": [
      "/var/folders/nw/93_by3716yn881ckngw_vmp40000gn/T/ipykernel_36171/565391879.py:40: UserWarning: FixedFormatter should only be used together with FixedLocator\n",
      "  ax.set_xticklabels(_xlabels, fontsize=13)\n"
     ]
    },
    {
     "data": {
      "image/png": "[encoded data removed]",
      "text/plain": [
       "<Figure size 792x504 with 1 Axes>"
      ]
     },
     "metadata": {
      "needs_background": "light"
     },
     "output_type": "display_data"
    }
   ],
   "source": [
    "plot_multiple_categorical_histogram(\n",
    "    [1, 3, 5, 7],\n",
    "    df_rce.values.T,\n",
    "    labels=list(df_rce.columns),\n",
    "    xlabels=list(df_rce.index),\n",
    "    title=\"RCE for models for various types of corruption\",\n",
    "    xlabel=\"Models\",\n",
    "    ylabel=\"RCE\",\n",
    "    width=1.0,\n",
    "    figsize=(11, 7),\n",
    "    filname=\"../results/rce_error_across_models.png\"\n",
    ")"
   ]
  },
  {
   "cell_type": "code",
   "execution_count": null,
   "id": "6c9a1db6-c95e-4093-9e5e-d5c2f629c884",
   "metadata": {},
   "outputs": [],
   "source": []
  }
 ],
 "metadata": {
  "kernelspec": {
   "display_name": "Python 3 (ipykernel)",
   "language": "python",
   "name": "python3"
  },
  "language_info": {
   "codemirror_mode": {
    "name": "ipython",
    "version": 3
   },
   "file_extension": ".py",
   "mimetype": "text/x-python",
   "name": "python",
   "nbconvert_exporter": "python",
   "pygments_lexer": "ipython3",
   "version": "3.9.7"
  }
 },
 "nbformat": 4,
 "nbformat_minor": 5
}
