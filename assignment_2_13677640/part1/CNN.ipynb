{
 "cells": [
  {
   "cell_type": "markdown",
   "metadata": {
    "colab_type": "text",
    "id": "PwNpC5conPMS"
   },
   "source": [
    "# NumPy Based CNN block (10 points)"
   ]
  },
  {
   "cell_type": "markdown",
   "metadata": {
    "colab_type": "text",
    "id": "Nud1FqU0nPMX"
   },
   "source": [
    "##   Outline of the Assignment\n",
    "\n",
    "You will be implementing the building blocks of a convolutional neural network\n",
    "\n",
    "1. **`zero padding`**\n",
    "\n",
    "2. **`convolution : Forward`**\n",
    "\n",
    "3. **`convolution : Backward`**\n",
    "\n",
    "4. **`Max pooling : Forward`**\n",
    "\n",
    "5. **`Max pooling : Backward`**\n",
    "\n",
    "\n",
    "    \n",
    "This notebook will ask you to implement these functions from scratch in **`Numpy`**.\n",
    "\n",
    "\n",
    "**Note** that for every forward function, there is its corresponding backward equivalent. "
   ]
  },
  {
   "cell_type": "code",
   "execution_count": 1,
   "metadata": {
    "colab": {},
    "colab_type": "code",
    "id": "mlGba2SdnPMZ"
   },
   "outputs": [],
   "source": [
    "# import tensorflow as tf\n",
    "import numpy as np\n",
    "import matplotlib.pyplot as plt"
   ]
  },
  {
   "cell_type": "markdown",
   "metadata": {
    "colab_type": "text",
    "id": "NVLBNfwjnPMh"
   },
   "source": [
    "## 1. Zero Padding (1 pts.)"
   ]
  },
  {
   "cell_type": "markdown",
   "metadata": {
    "colab_type": "text",
    "id": "uIofak2KnPMk"
   },
   "source": [
    "Zero-padding adds zeros around the border of an image:\n",
    "\n",
    "**Exercise**  : Implement the following function, which pads all the images of a batch of examples X with zeros."
   ]
  },
  {
   "cell_type": "markdown",
   "metadata": {
    "colab_type": "text",
    "id": "3Xac07WonPMn"
   },
   "source": [
    "shape of X and its zero pad array is :\n",
    "\n",
    "\n",
    "$$ X : (N, C, i_h, i_w)   $$\n",
    "$$  \\text{zeropad}(X) : (N, C, i_h + 2*ph, i_w + 2*pw)$$"
   ]
  },
  {
   "cell_type": "markdown",
   "metadata": {
    "colab_type": "text",
    "id": "xYa5kwC7nPMp"
   },
   "source": [
    "**Note** : you should not use np.pad in your implementation"
   ]
  },
  {
   "cell_type": "code",
   "execution_count": 69,
   "metadata": {
    "colab": {},
    "colab_type": "code",
    "id": "-2rbQl4enPMr"
   },
   "outputs": [],
   "source": [
    "def zero_padding(X, padding):\n",
    "    \"\"\"\n",
    "    Pad with zeros all images of the dataset X. The padding is applied to the height and width of an image.\n",
    "\n",
    "    input :\n",
    "      - X :  numpy array of shape (N, C, IH, IW) representing a batch of N images\n",
    "      - padding : a tuple of 2 integer (ph, pw), amount of padding around each image on vertical and horizontal dimensions\n",
    "    return :\n",
    "      - zero_pad : zero pad array of shape (N, C, IH + 2*ph, IW + 2*pw)\n",
    "    \n",
    "    \"\"\"\n",
    "  \n",
    "    zero_pad = None\n",
    "    ###########################################################################\n",
    "    # Hint: you should not use the function np.pad for padding.                     \n",
    "    ###########################################################################\n",
    "    pad_h, pad_w = padding\n",
    "\n",
    "    padded_shape = list(X.shape)\n",
    "    padded_shape[2] += 2 * pad_h\n",
    "    padded_shape[3] += 2 * pad_w\n",
    "\n",
    "    zero_pad = np.zeros(padded_shape, dtype=X.dtype)\n",
    "    \n",
    "    if pad_h == 0:\n",
    "        if pad_w == 0:\n",
    "            zero_pad[:, :, :, :] = X\n",
    "        else:\n",
    "            zero_pad[:, :, :, pad_w:-pad_w] = X\n",
    "    else:\n",
    "        if pad_w == 0:\n",
    "            zero_pad[:, :, pad_h:-pad_h, :] = X\n",
    "        else:\n",
    "            zero_pad[:, :, pad_h:-pad_h, pad_w:-pad_w] = X\n",
    "    ###########################################################################\n",
    "    #                             END OF YOUR CODE                            #\n",
    "    ###########################################################################\n",
    "    \n",
    "    return zero_pad\n",
    "    \n",
    "    \n",
    "    "
   ]
  },
  {
   "cell_type": "code",
   "execution_count": 63,
   "metadata": {
    "colab": {},
    "colab_type": "code",
    "id": "bOvCLShTnPMy"
   },
   "outputs": [
    {
     "name": "stdout",
     "output_type": "stream",
     "text": [
      "your implementation is correct\n",
      "shape of x is : (2, 3, 4, 4)\n",
      "shape of x_pad is : (2, 3, 10, 8)\n"
     ]
    },
    {
     "data": {
      "text/plain": [
       "<matplotlib.image.AxesImage at 0x13df8e220>"
      ]
     },
     "execution_count": 63,
     "metadata": {},
     "output_type": "execute_result"
    },
    {
     "data": {
      "image/png": "[encoded data removed]",
      "text/plain": [
       "<Figure size 432x288 with 2 Axes>"
      ]
     },
     "metadata": {
      "needs_background": "light"
     },
     "output_type": "display_data"
    }
   ],
   "source": [
    "#test zero_padding function\n",
    "np.random.seed(1968)\n",
    "\n",
    "x = np.random.rand(2, 3 ,4, 4)\n",
    "padding = (3, 2)\n",
    "x_pad = zero_padding(x, padding)\n",
    "\n",
    "\n",
    "assert x_pad.shape==(x.shape[0], x.shape[1], x.shape[2] + 2*padding[0], x.shape[3] + 2*padding[1])\n",
    "assert np.all(x_pad[:, :, padding[0]:padding[0]+x.shape[2], padding[1]:padding[1]+x.shape[3]]==x)\n",
    "\n",
    "print(\"your implementation is correct\")\n",
    "print(\"shape of x is :\", x.shape)\n",
    "print(\"shape of x_pad is :\", x_pad.shape)\n",
    "\n",
    "fig, axarr = plt.subplots(1, 2)\n",
    "axarr[0].set_title('x')\n",
    "axarr[0].imshow(x[0, 0, :, :])\n",
    "axarr[1].set_title('x_pad')\n",
    "axarr[1].imshow(x_pad[0, 0, :, :])"
   ]
  },
  {
   "cell_type": "markdown",
   "metadata": {
    "colab_type": "text",
    "id": "yaLgNcJonPM5"
   },
   "source": [
    "## 2.convolution : Forward (2 pts.)"
   ]
  },
  {
   "cell_type": "markdown",
   "metadata": {
    "colab_type": "text",
    "id": "iSHkDYrfnPM7"
   },
   "source": [
    "In this Exercise, you implement convolutional neural networks using the NumPy library only.\n",
    "\n",
    "The input X,W are the input of the convolutional layer and the shape of X,W are $(N, C, i_h, i_w)$ , $(F, C, f_h, f_w)$ respectively and The return  value O is the output of the convolutional layer and the shape is $(N, F, O_h, O_w)$ where :\n",
    "\n",
    "$$\\text{stride} : (s_h,s_w)$$\n",
    "\n",
    "$$\\text{padding} : (p_h,p_w)$$\n",
    "\n",
    "$$O_w =\\lfloor \\frac{i_w - f_w + 2*p_w}{s_w} \\rfloor + 1$$\n",
    "\n",
    "$$O_h = \\lfloor\\frac{i_h - f_h + 2*p_h}{s_h}\\rfloor + 1$$\n",
    "$$O(b,f, i ,j)=\\sum_{r=0}^{C-1}\\sum_{k=0}^{f_h-1}\\sum_{l=0}^{f_w-1} W(f,r,k,l) X(b,r,s_h *i +k, s_w  *j +l)$$"
   ]
  },
  {
   "cell_type": "code",
   "execution_count": 51,
   "metadata": {
    "colab": {},
    "colab_type": "code",
    "id": "rc6Tt8EGnPM9"
   },
   "outputs": [],
   "source": [
    "def convolution2D(X, W, stride, padding):\n",
    "    \"\"\"\n",
    "    A implementation of the forward pass for a convolutional layer.\n",
    "    \n",
    "    The input consists of N data points, each with C channels, height IH and\n",
    "    width IW .We convolve each input with F different filters, where each filter\n",
    "    spans all C channels and has height FH and width FW.\n",
    "    \n",
    "    \n",
    "    inputs:\n",
    "     - X : input data of shape (N, C, IH, IW)\n",
    "     - W : Filter weight of shape (F, C, FH, FW)\n",
    "     - stride : a tuple of 2 integer (sh, sw)\n",
    "     - padding :a tuple of 2 integer (ph, pw)\n",
    "     \n",
    "    return:\n",
    "     - out : Output data, of shape (N, F, OH, OW) where OH and OW given by\n",
    "     \n",
    "     OH= 1 + int ( (IH + 2*ph - FH)/ sh )\n",
    "     OW= 1 + int ( (IW + 2*pw - FW)/ sw )\n",
    "    \n",
    "    \"\"\"\n",
    "    \n",
    "    out = None\n",
    "    ###########################################################################\n",
    "    # Implement the convolutional forward pass.                               #\n",
    "    ###########################################################################\n",
    "    (N, C_in, IH, IW) = X.shape\n",
    "    (F, C_wt, FH, FW) = W.shape\n",
    "    assert C_in == C_wt, f\"Number of input channels ({C_in}) not equal to number of channels in filters ({C_wt})\"\n",
    "    C = C_in\n",
    "    \n",
    "    # get striding and padding parameters\n",
    "    (sh, sw) = stride\n",
    "    (ph, pw) = padding\n",
    "    \n",
    "    \n",
    "    # pad the input\n",
    "    X_pad = zero_padding(X, padding)\n",
    "    \n",
    "    # compute dimensions of the output\n",
    "    OH = 1 + int((IH + 2*ph - FH)/ sh)\n",
    "    OW = 1 + int((IW + 2*pw - FW)/ sw)\n",
    "    out = np.zeros((N, F, OH, OW), dtype=X.dtype)\n",
    "    \n",
    "    # get striding indices\n",
    "    h_indices = np.arange(0, X_pad.shape[2] - FH + 1, sh)\n",
    "    w_indices = np.arange(0, X_pad.shape[3] - FW + 1, sw)\n",
    "    assert len(h_indices) == OH and np.max(h_indices) < X_pad.shape[2]\n",
    "    assert len(w_indices) == OW and np.max(w_indices) < X_pad.shape[3]\n",
    "    \n",
    "    import itertools \n",
    "    stride_indices = [i for i in itertools.product(h_indices, w_indices)]\n",
    "    output_indices = [i for i in itertools.product(np.arange(0, OH), np.arange(0, OW))]    \n",
    "    assert len(stride_indices) == len(output_indices)\n",
    "    \n",
    "    # loop over filters\n",
    "    for f in range(F):\n",
    "        W_filter = W[f]\n",
    "        W_filter = np.repeat(np.expand_dims(W_filter, 0), N, axis=0)\n",
    "        \n",
    "        for i, (h, w) in enumerate(stride_indices):\n",
    "            (h_out, w_out) = output_indices[i]\n",
    "            X_filter = X_pad[:, :, h:h+FH, w:w+FW]\n",
    "            \n",
    "            # compute dot product between (C, H, W) and (C, H, W) for each sample\n",
    "            out[:, f, h_out, w_out] = np.einsum(\"NFHW,NFHW->N\", X_filter, W_filter)\n",
    "    \n",
    "    ###########################################################################\n",
    "    #                             END OF YOUR CODE                            #\n",
    "    ###########################################################################\n",
    "    \n",
    "    return out"
   ]
  },
  {
   "cell_type": "code",
   "execution_count": 52,
   "metadata": {},
   "outputs": [
    {
     "name": "stdout",
     "output_type": "stream",
     "text": [
      "Compute time (NumPy): 0.003905057907104492\n",
      "Compute time (PyTorch): 0.0003342628479003906\n",
      "Output shape:  (2, 7, 8, 4)\n",
      "Error:  1.6575540939811617e-10\n"
     ]
    }
   ],
   "source": [
    "import time\n",
    "import torch\n",
    "import torch.nn as nn\n",
    "\n",
    "np.random.seed(1973)\n",
    "X = np.random.rand(2, 3, 23, 20).astype(np.float32)\n",
    "W = np.random.rand(7, 3, 6, 6).astype(np.float32)\n",
    "param1 = {'X':X, 'W':W, 'stride':(3, 6), 'padding':(2, 3)}\n",
    "start = time.time()\n",
    "conv_numpy = convolution2D(**param1)\n",
    "end = time.time()\n",
    "print(f\"Compute time (NumPy): {end - start}\")\n",
    "\n",
    "conv2d = nn.Conv2d(in_channels=3, out_channels=7, kernel_size=(6, 6), stride=(3, 6), padding=(2, 3))\n",
    "conv2d.weight.data = torch.from_numpy(W).float()\n",
    "conv2d.weight.requires_grad = False\n",
    "conv2d.bias.data = torch.zeros_like(conv2d.bias.data).float()\n",
    "conv2d.bias.requires_grad = False\n",
    "torch_X = torch.from_numpy(X).float()\n",
    "start = time.time()\n",
    "conv_torch = conv2d(torch_X)\n",
    "end = time.time()\n",
    "print(f\"Compute time (PyTorch): {end - start}\")\n",
    "\n",
    "error = np.sum(conv_numpy - conv_torch.numpy())**2\n",
    "\n",
    "print(\"Output shape: \", conv_numpy.shape)\n",
    "print(\"Error: \", error)"
   ]
  },
  {
   "cell_type": "code",
   "execution_count": 53,
   "metadata": {},
   "outputs": [],
   "source": [
    "import torch\n",
    "np.random.seed(1973)\n",
    "param1 = {'X':np.random.rand(2, 3, 23, 20), 'W':np.random.rand(7, 3, 6, 6), 'stride':(3, 6), 'padding':(2, 3)}\n",
    "x_tf = np.pad(param1['X'], ((0, 0), (0, 0), (2, 2), (3, 3)), 'constant', constant_values=0)\n",
    "conv_pytorch = torch.nn.Conv2d(3, 7, kernel_size=(6, 6), stride=param1['stride'], padding=param1['padding'], bias=False)\n",
    "conv_pytorch.weight = torch.nn.Parameter(torch.from_numpy(param1['W']))\n",
    "X_t = torch.tensor(param1['X'])\n",
    "assert conv_pytorch.forward(X_t).detach().numpy().shape == convolution2D(**param1).shape, \"Shape Mismatch\"\n",
    "assert np.allclose(conv_pytorch.forward(X_t).detach().numpy(), convolution2D(**param1)), \"Error in computing convolution\""
   ]
  },
  {
   "cell_type": "markdown",
   "metadata": {
    "colab_type": "text",
    "id": "kuqhD5E8nPNJ"
   },
   "source": [
    "To test your implementation, we will compare the results  with tensorflow function"
   ]
  },
  {
   "cell_type": "code",
   "execution_count": 54,
   "metadata": {
    "colab": {},
    "colab_type": "code",
    "id": "_Ran5YbunPNM"
   },
   "outputs": [],
   "source": [
    "# np.random.seed(1973)\n",
    "# param1 = {'X':np.random.rand(2, 3, 23, 20), 'W':np.random.rand(7, 3, 6, 6), 'stride':(3, 6), 'padding':(2, 3)}\n",
    "# x_tf = np.pad(param1['X'], ((0, 0), (0, 0), (2, 2), (3, 3)), 'constant', constant_values=0)\n",
    "\n",
    "\n",
    "# conv_numpy = convolution2D(**param1)\n",
    "# conv = tf.nn.conv2d(tf.transpose(x_tf, [0 ,2, 3, 1]), tf.transpose(param1['W'], (2, 3, 1, 0)), [1, 3, 6, 1], 'VALID')\n",
    "# conv = tf.transpose(conv, (0, 3, 1, 2))\n",
    "\n",
    "# with tf.Session() as sess:\n",
    "#     conv = sess.run(conv)\n",
    "\n",
    "\n",
    "# assert conv.shape==conv_numpy.shape\n",
    "# print(\"Error :\", (np.sum(conv - conv_numpy)**2))\n",
    "# print(\"output shape :\", conv_numpy.shape)\n"
   ]
  },
  {
   "cell_type": "markdown",
   "metadata": {
    "colab_type": "text",
    "id": "Yam8Y2x8nPNe"
   },
   "source": [
    "** Expected Output: **\n",
    "<table>\n",
    "    <tr>\n",
    "        <td>\n",
    "            **out shape**\n",
    "        </td>\n",
    "        <td>\n",
    "            (2, 7, 8, 4)\n",
    "        </td>\n",
    "    </tr>\n",
    "    <tr>\n",
    "        <td>\n",
    "            **ERROR**\n",
    "        </td>\n",
    "        <td>\n",
    "            2.5559093329160782e-28\n",
    "       </td>\n",
    "    </tr>\n",
    "    \n",
    "</table>\n"
   ]
  },
  {
   "cell_type": "markdown",
   "metadata": {
    "colab_type": "text",
    "id": "fRFXIZfwnPNg"
   },
   "source": [
    "## 3.convolution : Backward"
   ]
  },
  {
   "cell_type": "markdown",
   "metadata": {
    "colab_type": "text",
    "id": "aEf-K0MKnPNi"
   },
   "source": [
    "### 3.1 - Backward  w.r.t. filter (3 pts.)"
   ]
  },
  {
   "cell_type": "markdown",
   "metadata": {
    "colab_type": "text",
    "id": "1guVkIsfnPNk"
   },
   "source": [
    "This is the formula for computing a $\\frac{\\partial L}{\\partial W}$ for a single $W(f^\\prime,c^\\prime,k^\\prime ,l^\\prime )$ that $W$ is 4-D array as a filter in convolution operation with shape $(F,C,f_h,f_w)$ "
   ]
  },
  {
   "cell_type": "markdown",
   "metadata": {
    "colab_type": "text",
    "id": "LmJRQzNRnPNm"
   },
   "source": [
    "$$\\frac{\\partial L}{\\partial W(f^\\prime,c^\\prime,k^\\prime ,l^\\prime )} = \\sum_{b=0}^{N-1}\\left (\\sum_{i=0}^{O_h-1}\\sum_{j=0}^{O_w-1} \\frac{\\partial L}{\\partial O(b,f^\\prime,i,j)} \\frac{\\partial O(i,j)}{\\partial W(f^\\prime,c^\\prime,k^\\prime ,l^\\prime )}\\right ) = \\sum_{b=0}^{N-1}\\left (\\sum_{i=0}^{O_w-1}\\sum_{j=0}^{O_h-1} \\frac{\\partial L}{\\partial O(b,f^\\prime,i,j)}  X(b,c^\\prime, s_h*i +k^\\prime, s_w*j +l^\\prime) \\right )$$\n"
   ]
  },
  {
   "cell_type": "code",
   "execution_count": 95,
   "metadata": {
    "colab": {},
    "colab_type": "code",
    "id": "g2g-PgNmnPNo"
   },
   "outputs": [],
   "source": [
    "def convolution2D_backward_filter(out_grad, X, W, stride):\n",
    "    \"\"\"\n",
    "    A implementation of the backward pass for a convolutional layer.\n",
    "    \n",
    "    inputs:\n",
    "     - out_grad  : gradient of the Loss with respect to the output of the conv layer with shape (N, F, OW, OH)\n",
    "     - X : input data of shape (N, C, IH, IW)\n",
    "     - W : Filter weight of shape (F, C, FH, FW)\n",
    "     - stride : a list of [sh, sw]\n",
    "     \n",
    "    return:\n",
    "     - dW : Gradient with respect to W\n",
    "    \n",
    "    \"\"\"\n",
    "    dW = None\n",
    "    ###########################################################################\n",
    "    # Implement the convolutional backward pass.                              #\n",
    "    ###########################################################################\n",
    "    (N, C, IH, IW) = X.shape\n",
    "    (F, C, FH, FW) = W.shape\n",
    "    (N, F, OW, OH) = out_grad.shape\n",
    "    \n",
    "    # get striding parameters\n",
    "    (sh, sw) = stride\n",
    "    \n",
    "    # get striding indices\n",
    "    h_indices = np.arange(0, ((OH - 1) * sh) + 1, sh)\n",
    "    w_indices = np.arange(0, ((OW - 1) * sw) + 1, sw)\n",
    "    \n",
    "    # get dummy padded input\n",
    "    ph = (((OH - 1) * sh) + FH - IH) // 2\n",
    "    pw = (((OW - 1) * sw) + FW - IW) // 2\n",
    "    X_pad = zero_padding(X, (ph, pw))\n",
    "    # OH = 1 + int((IH + 2*ph - FH)/ sh)\n",
    "    # OW = 1 + int((IW + 2*pw - FW)/ sw)\n",
    "    \n",
    "    dW = np.zeros(W.shape, dtype=X.dtype)\n",
    "    \n",
    "    import itertools \n",
    "    stride_indices = [i for i in itertools.product(h_indices, w_indices)]\n",
    "    output_indices = [i for i in itertools.product(np.arange(0, OH), np.arange(0, OW))]\n",
    "    \n",
    "    # loop over filters\n",
    "    for f in range(F):\n",
    "        for i, (h, w) in enumerate(stride_indices):\n",
    "            h_out, w_out = output_indices[i]\n",
    "            X_filter = X_pad[:, :, h:h+FH, w:w+FW]\n",
    "            dW[f] += np.einsum(\"NCHW,N->CHW\", X_filter, out_grad[:, f, h_out, w_out])\n",
    "\n",
    "    ###########################################################################\n",
    "    #                             END OF YOUR CODE                            #\n",
    "    ###########################################################################\n",
    "    \n",
    "    return dW\n",
    "    \n",
    "    "
   ]
  },
  {
   "cell_type": "code",
   "execution_count": 98,
   "metadata": {},
   "outputs": [],
   "source": [
    "np.random.seed(1345)\n",
    "param = {'X':np.random.rand(2, 3, 10, 10), 'W':np.random.rand(7, 3, 4, 4), 'stride':(2, 2)}\n",
    "c_1 = np.ones((2, 7, 4, 4))\n",
    "dw = convolution2D_backward_filter(c_1, **param)\n",
    "assert np.allclose(np.sum(dw), 5340.576411697173), \"Error in computing convolution\""
   ]
  },
  {
   "cell_type": "code",
   "execution_count": 97,
   "metadata": {
    "colab": {},
    "colab_type": "code",
    "id": "N5GrLdnlnPNu"
   },
   "outputs": [],
   "source": [
    "# np.random.seed(1345)\n",
    "\n",
    "# param = {'X':np.random.rand(2, 3, 10,1 0), 'W':np.random.rand(7, 3, 4, 4), 'stride':(2, 2)}\n",
    "# c_1 = np.ones((2, 7, 4, 4))   \n",
    "# dw = convolution2D_backward_filter(c_1, **param)\n",
    "\n",
    "\n",
    "\n",
    "# w = tf.Variable(tf.transpose(param['W'],(2, 3, 1, 0)),name='v')\n",
    "# c = tf.nn.conv2d(tf.transpose(param['X'],[0, 2, 3, 1]), w, [1, 2, 2, 1], 'VALID')\n",
    "# loss = tf.reduce_sum(c)\n",
    "# dw_tf = tf.gradients(loss, w)\n",
    "# with tf.Session() as sess:\n",
    "#     sess.run(tf.global_variables_initializer())\n",
    "#     dw_tf = sess.run(dw_tf)\n",
    "\n",
    "\n",
    "\n",
    "# dw = np.transpose(dw, (2, 3 ,1, 0))\n",
    "# print(\"Error  :\", np.sum((dw-dw_tf[0])**2))\n",
    "# print(\"dW_tf  :\", np.sum(dw_tf[0]))\n",
    "# print(\"dW  :\", np.sum(dw))"
   ]
  },
  {
   "cell_type": "markdown",
   "metadata": {
    "colab_type": "text",
    "id": "FzXtSW_InPN0"
   },
   "source": [
    "** Expected Output: **\n",
    "<table>\n",
    "    <tr>\n",
    "        <td>\n",
    "            **dW_tf**\n",
    "        </td>\n",
    "        <td>\n",
    "            5340.576411697173\n",
    "        </td>\n",
    "    </tr>\n",
    "    <tr>\n",
    "        <td>\n",
    "            **dW**\n",
    "        </td>\n",
    "        <td>\n",
    "            5340.576411697173\n",
    "        </td>\n",
    "    </tr>\n",
    "    <tr>\n",
    "        <td>\n",
    "            **Error**\n",
    "        </td>\n",
    "        <td>\n",
    "            2.473867798773093e-27\n",
    " </td>\n",
    "    </tr>\n",
    "\n",
    "</table>\n"
   ]
  },
  {
   "cell_type": "markdown",
   "metadata": {
    "colab_type": "text",
    "id": "nxyz9o2GnPN3"
   },
   "source": [
    "### 3.2 - Backward  w.r.t. input (3 pts.)"
   ]
  },
  {
   "cell_type": "markdown",
   "metadata": {
    "colab_type": "text",
    "id": "H7P5oyWXnPN5"
   },
   "source": [
    "This is the formula for computing a $\\frac{\\partial L}{\\partial X}$ for a single $X(b^\\prime,c^\\prime,k^\\prime ,l^\\prime )$ that $X$ is 4-D array as a input in convolution operation with shape $(N,C,i_h,i_w)$ "
   ]
  },
  {
   "cell_type": "markdown",
   "metadata": {
    "colab_type": "text",
    "id": "nLGji2fKnPN7"
   },
   "source": [
    "$$\\frac{\\partial L}{\\partial X(b^\\prime,c^\\prime,k^\\prime ,l^\\prime )} = \\sum_{f=0}^{F-1}\\left (\\sum_{i=0}^{O_h-1}\\sum_{j=0}^{O_w-1} \\frac{\\partial L}{\\partial O(b^\\prime,f,i,j)} \\frac{\\partial O(b^\\prime,f,i,j)}{\\partial X(b^\\prime,c^\\prime,k^\\prime ,l^\\prime )}\\right ) = \\sum_{f=0}^{F-1}\\left (\\sum_{i=0}^{O_h-1}\\sum_{j=0}^{O_w-1} \\frac{\\partial L}{\\partial O(b^\\prime,f,i,j)} W(f,c^\\prime,k^\\prime - s_h*i, l^\\prime - s_w*j) \\right )$$\n"
   ]
  },
  {
   "cell_type": "code",
   "execution_count": 106,
   "metadata": {
    "colab": {},
    "colab_type": "code",
    "id": "k9-Ez6OQnPN-"
   },
   "outputs": [],
   "source": [
    "def convolution2D_backward_input(out_grad, X, W, stride):\n",
    "    \"\"\"\n",
    "    A implementation of the backward pass for a convolutional layer.\n",
    "    \n",
    "    inputs:\n",
    "     - out_grad  : gradient of the Loss with respect to the output of the conv layer with shape (N, F, OW, OH)\n",
    "     - X : input data of shape (N, C, IH, IW)\n",
    "     - W : Filter weight of shape (F, C, FH, FW)\n",
    "     - stride : a list of [sh, sw]\n",
    "     \n",
    "    return:\n",
    "     - dX : Gradient with respect to X\n",
    "    \n",
    "    \"\"\"\n",
    "        \n",
    "    dX = None\n",
    "    ###########################################################################\n",
    "    # Implement the convolutional backward pass.                              #\n",
    "    ###########################################################################\n",
    "    (N, C, IH, IW) = X.shape\n",
    "    (F, C, FH, FW) = W.shape\n",
    "    (N, F, OW, OH) = out_grad.shape\n",
    "    \n",
    "    # get striding parameters\n",
    "    (sh, sw) = stride\n",
    "    \n",
    "    # get striding indices\n",
    "    h_indices = np.arange(0, ((OH - 1) * sh) + 1, sh)\n",
    "    w_indices = np.arange(0, ((OW - 1) * sw) + 1, sw)\n",
    "    \n",
    "    dX = np.zeros(X.shape, dtype=X.dtype)\n",
    "    \n",
    "    import itertools \n",
    "    stride_indices = [i for i in itertools.product(h_indices, w_indices)]\n",
    "    output_indices = [i for i in itertools.product(np.arange(0, OH), np.arange(0, OW))]\n",
    "\n",
    "    for i, (h, w) in enumerate(stride_indices):\n",
    "        h_out, w_out = output_indices[i]\n",
    "        dX[:, :, h:h+FH, w:w+FW] += np.einsum(\"FCHW,NF->NCHW\", W, out_grad[:, :, h_out, w_out])\n",
    "    ###########################################################################\n",
    "    #                             END OF YOUR CODE                            #\n",
    "    ###########################################################################\n",
    "    \n",
    "    return dX\n",
    "    "
   ]
  },
  {
   "cell_type": "code",
   "execution_count": 107,
   "metadata": {},
   "outputs": [],
   "source": [
    "np.random.seed(1992)\n",
    "\n",
    "param = {'X':np.random.rand(5, 3, 6, 6), 'W':np.random.rand(2, 3, 2, 2), 'stride':(3,3)}\n",
    "grad = np.ones((5, 2, 2, 2))\n",
    "dx = convolution2D_backward_input(grad, **param)\n",
    "assert np.allclose(np.sum(dx), 208.392870185956), \"Erorr in calculating dX\""
   ]
  },
  {
   "cell_type": "code",
   "execution_count": 105,
   "metadata": {
    "colab": {},
    "colab_type": "code",
    "id": "VJwwMZqInPOE"
   },
   "outputs": [],
   "source": [
    "# np.random.seed(1992)\n",
    "\n",
    "# param = {'X':np.random.rand(5, 3, 6, 6), 'W':np.random.rand(2, 3, 2, 2), 'stride':(3,3)}\n",
    "# grad = np.ones((5, 2, 2, 2))\n",
    "# dx = convolution2D_backward_input(grad, **param)\n",
    "\n",
    "\n",
    "\n",
    "# w = tf.Variable(tf.transpose(param['W'], (2, 3, 1, 0)), name='v')\n",
    "# x = tf.Variable(tf.transpose(param['X'], [0, 2, 3, 1]), name='x')\n",
    "# c = tf.nn.conv2d(x, w, [1,3,3,1], 'VALID')\n",
    "# loss = tf.reduce_sum(c)\n",
    "# g = tf.gradients(loss, x)\n",
    "# with tf.Session() as sess:\n",
    "#     sess.run(tf.global_variables_initializer())\n",
    "#     dx_tf = sess.run(g)\n",
    "# dx = np.transpose(dx, (0, 2, 3, 1))\n",
    "\n",
    "\n",
    "\n",
    "# assert dx.shape==dx_tf[0].shape\n",
    "# print(\"Error is :\", np.sum((dx-dx_tf[0])**2))\n",
    "# print(\"dX_tf is :\", np.sum(dx_tf[0]))\n",
    "# print(\"dX is :\", np.sum(dx))"
   ]
  },
  {
   "cell_type": "markdown",
   "metadata": {
    "colab_type": "text",
    "id": "kmIIdIwqnPOL"
   },
   "source": [
    "** Expected Output: **\n",
    "<table>\n",
    "    <tr>\n",
    "        <td>\n",
    "            **dX_tf**\n",
    "        </td>\n",
    "        <td>\n",
    "            208.39287018595633\n",
    "        </td>\n",
    "    </tr>\n",
    "    <tr>\n",
    "        <td>\n",
    "            **dX**\n",
    "        </td>\n",
    "        <td>\n",
    "            208.39287018595633\n",
    "        </td>\n",
    "    </tr>\n",
    "    <tr>\n",
    "        <td>\n",
    "            **Error**\n",
    "        </td>\n",
    "        <td>\n",
    "            0.0\n",
    " </td>\n",
    "    </tr>\n",
    "\n",
    "</table>\n"
   ]
  },
  {
   "cell_type": "markdown",
   "metadata": {
    "colab_type": "text",
    "id": "01DiIHblnPOO"
   },
   "source": [
    "## 4.Pooling"
   ]
  },
  {
   "cell_type": "markdown",
   "metadata": {
    "colab_type": "text",
    "id": "0s_-ssYznPOQ"
   },
   "source": [
    "### 4.1 - forward max pooling (2 pts.)"
   ]
  },
  {
   "cell_type": "markdown",
   "metadata": {
    "colab_type": "text",
    "id": "Zuq2YNg1nPOS"
   },
   "source": [
    "The pooling layer reduces the height and width of the input. It helps reduce computation"
   ]
  },
  {
   "cell_type": "markdown",
   "metadata": {
    "colab_type": "text",
    "id": "f_SFsAmLnPOV"
   },
   "source": [
    " - Max-pooling layer: slides an ($f, f$) window with stride $s$ over the input and stores the max value of the window in the output.\n",
    "\n",
    "in function below X is input and shape of X is $(N, C, i_h, i_w)$  and output is shape $(N, C, O_h, O_w)$ that :\n",
    "\n",
    " $$O_h =\\lfloor\\frac{i_h - f }{s}\\rfloor + 1$$\n",
    " $$O_w =\\lfloor\\frac{i_w - f }{s}\\rfloor + 1$$"
   ]
  },
  {
   "cell_type": "markdown",
   "metadata": {
    "colab_type": "text",
    "id": "GEYR4RCNnPOX"
   },
   "source": [
    "**Exercise**: Implement the forward pass of the pooling layer\n"
   ]
  },
  {
   "cell_type": "code",
   "execution_count": null,
   "metadata": {
    "colab": {},
    "colab_type": "code",
    "id": "VaWcSaPKnPOZ"
   },
   "outputs": [],
   "source": [
    "def pool_forward(X, f, s):\n",
    "    \"\"\"\n",
    "    Implements the forward pass of the pooling layer\n",
    "    \n",
    "    input:\n",
    "       - X : numpy array of shape (N, C, IH, IW)\n",
    "       - f : int, filter size in height and width dim\n",
    "       - s : int\n",
    "    \n",
    "    Returns:\n",
    "       - pool : output of the pool layer, a numpy array of shape (N, C, OH, OW) where OH and OW given by\n",
    "       \n",
    "       OH = 1 + int((IH - f)/s)\n",
    "       OW = 1 + int((IW - f)/s)\n",
    "    \n",
    "    \"\"\"\n",
    "    pool = None\n",
    "    ###########################################################################\n",
    "    #  Implement the max pooling forward pass.                                #\n",
    "    ###########################################################################\n",
    "    pass\n",
    "    ###########################################################################\n",
    "    #                             END OF YOUR CODE                            #\n",
    "    ###########################################################################\n",
    "    \n",
    "    return pool\n",
    "    \n",
    "    "
   ]
  },
  {
   "cell_type": "code",
   "execution_count": null,
   "metadata": {
    "colab": {},
    "colab_type": "code",
    "id": "JtN8FqAlnPOj"
   },
   "outputs": [],
   "source": [
    "np.random.seed(1975)\n",
    "x=np.random.rand(2,3,23,23)\n",
    "\n",
    "hyper_param={\"f\":2, \"s\" :11}\n",
    "c=pool_forward(x,**hyper_param)\n",
    "\n",
    "pool_tf = tf.nn.max_pool(tf.transpose(x,(0,2,3,1)),[1,2,2,1],[1,11,11,1],'VALID') ## tensorflow api\n",
    "\n",
    "with tf.Session() as sess:\n",
    "    pool_tf =sess.run(pool_tf)\n",
    "    \n",
    "pool_tf=np.transpose(pool_tf, (0,3,1,2))\n",
    "\n",
    "assert c.shape==pool_tf.shape\n",
    "assert (c==pool_tf).all()\n",
    "\n",
    "print(\"your implementation is correct\")\n",
    "print(\"output shape :\", c.shape)\n",
    "print(\"output :\", c)\n",
    "print(\"Error :\" ,np.sum((c-pool_tf)**2))\n"
   ]
  },
  {
   "cell_type": "markdown",
   "metadata": {
    "colab_type": "text",
    "id": "hr0tWI2qnPOp"
   },
   "source": [
    "** Expected Output: **\n",
    "<table>\n",
    "    <tr>\n",
    "        <td>\n",
    "            **Error**\n",
    "        </td>\n",
    "        <td>\n",
    "            0.0\n",
    "        </td>\n",
    "    </tr>\n",
    "    <tr>\n",
    "        <td>\n",
    "            **output shape **\n",
    "        </td>\n",
    "        <td>\n",
    "            (2, 3, 2, 2)\n",
    "        </td>\n",
    "    </tr>\n",
    "\n",
    "\n",
    "</table>\n"
   ]
  },
  {
   "cell_type": "markdown",
   "metadata": {
    "colab_type": "text",
    "id": "SRCZdRWinPOr"
   },
   "source": [
    "### 4.2 - backward max pooling (2 pts.)"
   ]
  },
  {
   "cell_type": "markdown",
   "metadata": {
    "colab_type": "text",
    "id": "FN1kDBVhnPOt"
   },
   "source": [
    "**Exercise**  :implement the backward pass for the pooling layer. Even though a pooling layer has no parameters for backprop to update, you still need to backpropagation the gradient through the pooling layer in order to compute gradients for layers that came before the pooling layer. \n"
   ]
  },
  {
   "cell_type": "code",
   "execution_count": null,
   "metadata": {
    "colab": {},
    "colab_type": "code",
    "id": "hpSvOKFWnPOy"
   },
   "outputs": [],
   "source": [
    "def pool_back(grad_pool, X, f, s):\n",
    "    \"\"\"\n",
    "    Implements the backward pass of the pooling layer\n",
    "    \n",
    "    Arguments:\n",
    "       - grad_pool : gradient of cost with respect to the output of the pooling layer\n",
    "       - X : input to pooling layer , numpy array with shape (N, C, IH, IW)\n",
    "       - f : int, filter size in height and width dim\n",
    "       - s :  int\n",
    "    Returns:\n",
    "       - dX_pool  : gradient of cost with respect to the input of the pooling layer, same shape as X\n",
    "    \"\"\"\n",
    "    dX_pool = None\n",
    "    ###########################################################################\n",
    "    # Implement the max pooling backward pass.                               #\n",
    "    ###########################################################################\n",
    "    pass\n",
    "    ###########################################################################\n",
    "    #                             END OF YOUR CODE                            #\n",
    "    ###########################################################################\n",
    "    \n",
    "    return dX_pool\n",
    "    "
   ]
  },
  {
   "cell_type": "code",
   "execution_count": null,
   "metadata": {
    "colab": {},
    "colab_type": "code",
    "id": "1uBU0WeUnPO3"
   },
   "outputs": [],
   "source": [
    "np.random.seed(19)\n",
    "X=np.random.rand(2,3,10,10)\n",
    "g=np.random.rand(2,3,7,7)\n",
    "\n",
    "f=2\n",
    "s=1\n",
    "dX=pool_back(g, X, f, s)\n",
    "\n",
    "\n",
    "print(\"mean of dX :\",np.mean(dX))\n",
    "print(\"dX[1,2,2:5,2:5] = \",dX[1,2,2:5,2:5])\n",
    "\n"
   ]
  },
  {
   "cell_type": "markdown",
   "metadata": {
    "colab_type": "text",
    "id": "0qOjFOKonPO-"
   },
   "source": [
    "**Expected Output**: \n",
    "\n",
    "<table> \n",
    "<tr> \n",
    "<td>\n",
    "\n",
    "**mean of dX =**\n",
    "</td>\n",
    "\n",
    "<td>\n",
    "\n",
    "0.2428232587752177\n",
    "  </td>\n",
    "</tr>\n",
    "\n",
    "<tr> \n",
    "<td>\n",
    "**dX[1,2,2:5,2:5] =** \n",
    "</td>\n",
    "<td>\n",
    "[[0.         0.         1.09075724]\n",
    " [1.29276074 0.         1.15881724]\n",
    " [0.         0.61727634 0.        ]]\n",
    "</td>\n",
    "</tr>\n",
    "</table>\n",
    "\n"
   ]
  }
 ],
 "metadata": {
  "colab": {
   "collapsed_sections": [],
   "name": "CNN_modify.ipynb",
   "provenance": [],
   "version": "0.3.2"
  },
  "kernelspec": {
   "display_name": "Python 3 (ipykernel)",
   "language": "python",
   "name": "python3"
  },
  "language_info": {
   "codemirror_mode": {
    "name": "ipython",
    "version": 3
   },
   "file_extension": ".py",
   "mimetype": "text/x-python",
   "name": "python",
   "nbconvert_exporter": "python",
   "pygments_lexer": "ipython3",
   "version": "3.9.7"
  }
 },
 "nbformat": 4,
 "nbformat_minor": 4
}
